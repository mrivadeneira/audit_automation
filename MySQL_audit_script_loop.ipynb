{
 "cells": [
  {
   "cell_type": "code",
   "execution_count": 1,
   "metadata": {},
   "outputs": [],
   "source": [
    "import numpy as np\n",
    "import pandas as pd\n",
    "import os\n",
    "import csv\n",
    "import zipfile\n",
    "import re\n",
    "pd.set_option('display.max_columns', 500)"
   ]
  },
  {
   "cell_type": "code",
   "execution_count": 2,
   "metadata": {},
   "outputs": [],
   "source": [
    "src_dir = os.getcwd()\n",
    "if not os.path.exists(os.path.join(src_dir,\"MySQL_Folders\")):\n",
    "    os.makedirs(os.path.join(src_dir,\"MySQL_Folders\"))\n",
    "dst_dir = os.path.join(src_dir,'MySQL_Folders')\n",
    "outputs_dir = os.path.join(os.getcwd(),'MySQL_Outputs')\n",
    "output_zips = os.listdir(os.path.join(os.getcwd(),'MySQL_Outputs'))\n",
    "dba_users_columns = ['Host', 'User', 'Password', 'Select_priv', 'Insert_priv', 'Update_priv', 'Delete_priv',\n",
    "                     'Create_priv', 'Drop_priv', 'Reload_priv', 'Shutdown_priv', 'Process_priv', 'File_priv',\n",
    "                     'Grant_priv', 'References_priv', 'Index_priv', 'Alter_priv', 'Show_db_priv', 'Super_priv',\n",
    "                     'Create_tmp_table_priv', 'Lock_tables_priv', 'Execute_priv', 'Repl_slave_priv', 'Repl_client_priv',\n",
    "                     'Create_view_priv', 'Show_view_priv', 'Create_routine_priv', 'Alter_routine_priv', 'Create_user_priv',\n",
    "                     'Event_priv', 'Trigger_priv', 'Create_tablespace_priv', 'ssl_type', 'ssl_cipher', 'x509_issuer',\n",
    "                     'x509_subject', 'max_questions', 'max_updates', 'max_connections', 'max_user_connections', 'plugin',\n",
    "                     'authentication_string', 'password_expired', 'db']\n",
    "dba_users = pd.DataFrame(columns=dba_users_columns)\n",
    "grants = pd.DataFrame(columns=['values', 'db'])\n",
    "nomina = pd.read_excel('nomina.xlsx', engine='openpyxl')\n",
    "nomina['Nombre de usuario'] =  nomina['Nombre de usuario'].apply(lambda x: str(x).lower())"
   ]
  },
  {
   "cell_type": "code",
   "execution_count": 3,
   "metadata": {},
   "outputs": [
    {
     "name": "stdout",
     "output_type": "stream",
     "text": [
      "Loop generated for  aml02.zip  file: current shape:  \n",
      " dba_users:  (22, 53) \n",
      " grants:  (33, 3)\n",
      "Loop generated for  aml03.zip  file: current shape:  \n",
      " dba_users:  (44, 53) \n",
      " grants:  (66, 3)\n",
      "Loop generated for  aml04.zip  file: current shape:  \n",
      " dba_users:  (66, 53) \n",
      " grants:  (99, 3)\n",
      "Loop generated for  aml05.zip  file: current shape:  \n",
      " dba_users:  (88, 53) \n",
      " grants:  (132, 3)\n",
      "Loop generated for  aml06.zip  file: current shape:  \n",
      " dba_users:  (110, 53) \n",
      " grants:  (165, 3)\n",
      "Loop generated for  amlrules.zip  file: current shape:  \n",
      " dba_users:  (132, 53) \n",
      " grants:  (202, 3)\n"
     ]
    }
   ],
   "source": [
    "for o in enumerate(output_zips):\n",
    "    #Create path to unzip and drop \n",
    "    newpath = os.path.join(dst_dir, output_zips[o[0]].replace(\".zip\",\"\")) \n",
    "    if not os.path.exists(newpath):\n",
    "        os.makedirs(newpath)\n",
    "    with zipfile.ZipFile(os.path.join(outputs_dir,output_zips[o[0]]), 'r') as zip_ref:\n",
    "        zip_ref.extractall(newpath)\n",
    "    \n",
    "    #list files in every unzipped folder, files 0 corresponds to dba_user file and files 1 to grants file.\n",
    "    files = os.listdir(newpath)\n",
    "    dba_users_f = files[0]\n",
    "    grants_f = files[1]\n",
    "    dba_users = dba_users.append(pd.read_csv(os.path.join(newpath, dba_users_f)), sort=False, ignore_index=True)\n",
    "    dba_users['db'] = dba_users['db'].fillna(output_zips[o[0]].replace(\".zip\",\"\"))\n",
    "    grants = grants.append(pd.read_csv(os.path.join(newpath, grants_f), header=None, names=['values']), sort=False, ignore_index=True)\n",
    "    grants['db'] = grants['db'].fillna(output_zips[o[0]].replace(\".zip\",\"\"))\n",
    "    \n",
    "    #Boolean mask to filter relevant privileges/grants\n",
    "    mask_relevant_permissions = (dba_users['password_expired'] == 'N') & ((dba_users['Insert_priv'] == 'Y') | \\\n",
    "                                (dba_users['Update_priv'] == 'Y') | (dba_users['Delete_priv'] == 'Y') | \\\n",
    "                                (dba_users['Create_priv'] == 'Y') | (dba_users['Drop_priv'] == 'Y') | \\\n",
    "                                (dba_users['Grant_priv'] == 'Y') | (dba_users['Alter_priv'] == 'Y') | \\\n",
    "                                (dba_users['Super_priv'] == 'Y') | (dba_users['Create_user_priv'] == 'Y'))\n",
    "    relevant_grants = ['INSERT', 'UPDATE', 'DELETE', 'CREATE', 'CREATE',\n",
    "                       'DROP', 'WITH GRANT OPTION', 'ALTER', 'SUPER', 'CREATE USER', 'ALL PRIVILEGES']\n",
    "    \n",
    "    #Overwrite dataframe with filters applied\n",
    "    dba_users = dba_users[mask_relevant_permissions]\n",
    "    \n",
    "    #Regex to get relevant grants defined previosly\n",
    "    esc_lst = [re.escape(s) for s in relevant_grants]\n",
    "    pattern = '|'.join(esc_lst)\n",
    "    grants = grants[grants['values'].str.contains(pattern, case=False)]\n",
    "    \n",
    "    #Data cleansing\n",
    "    grants['user'] = grants['values'].apply(lambda x: re.findall(\"(?<= TO ')[a-zA-Z0-9-_]+|(?<= TO `)[a-zA-Z0-9-_]+\",x))\n",
    "    grants['user'] = grants['user'].astype(str).apply(lambda x: x.replace(\"[\",\"\"))\n",
    "    grants['user'] = grants['user'].apply(lambda x: x.replace(\"]\",\"\"))\n",
    "    grants['user'] = grants['user'].apply(lambda x: x.replace(\"'\",\"\"))\n",
    "    \n",
    "    print('Loop generated for ', o[1], ' file: current shape: ', '\\n', 'dba_users: ', dba_users.shape, '\\n', 'grants: ', grants.shape)"
   ]
  },
  {
   "cell_type": "code",
   "execution_count": 4,
   "metadata": {},
   "outputs": [],
   "source": [
    "dba_users = dba_users[['db', 'User','password_expired', 'Insert_priv', 'Update_priv', \n",
    "                       'Delete_priv', 'Create_priv', 'Drop_priv', 'Grant_priv',\n",
    "                       'Alter_priv', 'Super_priv', 'Create_user_priv']]\n",
    "dba_users = dba_users.merge(nomina[['Nombre de usuario', 'Departamento']], how='left', left_on='User', right_on='Nombre de usuario').drop('Nombre de usuario', axis=1)\n",
    "grants = grants.merge(nomina[['Nombre de usuario', 'Departamento']], how='left', left_on='user', right_on='Nombre de usuario').drop('Nombre de usuario', axis=1)\n",
    "common_users = ['ab_schemas', 'addslave', 'alter_qa', 'consultas_exc', 'ggs11', 'mysql', 'root', 'sentinel']\n",
    "own_default_users = ('_ADMIN', '_WPROD', '_MIGRA')\n",
    "c1 = dba_users['User'].str.contains('|'.join(common_users))\n",
    "c2 = dba_users['User'].str.endswith(own_default_users)\n",
    "c3 = grants['user'].str.contains('|'.join(common_users))\n",
    "c4 = grants['user'].str.endswith(own_default_users)\n",
    "dba_users['Departamento'][dba_users['Departamento'].isnull()] = np.select([c1,c2], \n",
    "                                                                          [dba_users['Departamento'].fillna('Usuario creado por API comun a todas las bases'),\n",
    "                                                                           dba_users['Departamento'].fillna('Usuario creado por API comun a todas las bases')])\n",
    "grants['Departamento'][grants['Departamento'].isnull()] = np.select([c3,c4], \n",
    "                                                                          [grants['Departamento'].fillna('Usuario creado por API comun a todas las bases'),\n",
    "                                                                           grants['Departamento'].fillna('Usuario creado por API comun a todas las bases')])"
   ]
  },
  {
   "cell_type": "code",
   "execution_count": 5,
   "metadata": {},
   "outputs": [],
   "source": [
    "ad_users = pd.read_excel('AD.xlsx',engine='openpyxl')\n",
    "ad_users = ad_users[['Name', 'Disabled']]"
   ]
  },
  {
   "cell_type": "code",
   "execution_count": 6,
   "metadata": {},
   "outputs": [],
   "source": [
    "dba_users = dba_users.merge(ad_users, how='left', left_on='User', right_on='Name').drop('Name', axis=1)\n",
    "grants = grants.merge(ad_users, how='left', left_on='user', right_on='Name').drop('Name', axis=1)\n",
    "dba_users['Disabled'][dba_users['Disabled'].isnull()] = np.select([c1,c2], \n",
    "                                                                  [dba_users['Disabled'].fillna('N/A'),\n",
    "                                                                   dba_users['Disabled'].fillna('N/A')])\n",
    "grants['Disabled'][grants['Disabled'].isnull()] = np.select([c3,c4],\n",
    "                                                            [grants['Disabled'].fillna('N/A'),\n",
    "                                                             grants['Disabled'].fillna('N/A')])"
   ]
  },
  {
   "cell_type": "code",
   "execution_count": 7,
   "metadata": {},
   "outputs": [],
   "source": [
    "dba_users.to_csv('total_dba_users.csv')\n",
    "grants.to_csv('total_grants.csv')"
   ]
  },
  {
   "cell_type": "code",
   "execution_count": null,
   "metadata": {},
   "outputs": [],
   "source": []
  }
 ],
 "metadata": {
  "kernelspec": {
   "display_name": "Python 3",
   "language": "python",
   "name": "python3"
  },
  "language_info": {
   "codemirror_mode": {
    "name": "ipython",
    "version": 3
   },
   "file_extension": ".py",
   "mimetype": "text/x-python",
   "name": "python",
   "nbconvert_exporter": "python",
   "pygments_lexer": "ipython3",
   "version": "3.8.8"
  }
 },
 "nbformat": 4,
 "nbformat_minor": 4
}
