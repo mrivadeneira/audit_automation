{
 "cells": [
  {
   "cell_type": "code",
   "execution_count": 1,
   "metadata": {},
   "outputs": [],
   "source": [
    "import numpy as np\n",
    "import pandas as pd\n",
    "import os\n",
    "import csv\n",
    "import zipfile\n",
    "import re"
   ]
  },
  {
   "cell_type": "code",
   "execution_count": 2,
   "metadata": {},
   "outputs": [],
   "source": [
    "src_dir = os.getcwd()\n",
    "#if not os.path.exists(os.path.join(src_dir,\"Oracle_Folders\")):\n",
    " #   os.makedirs(os.path.join(src_dir,\"Oracle_Folders\"))\n",
    "#dst_dir = os.path.join(src_dir,'Oracle_Folders')\n",
    "dst_dir = os.path.join(src_dir,'ACTT Oracle Site')\n",
    "dst_list_dir = os.listdir(dst_dir)\n",
    "#outputs_dir = os.path.join(os.getcwd(),'Oracle_Outputs')\n",
    "#output_zips = os.listdir(os.path.join(os.getcwd(),'Oracle_Outputs'))\n",
    "vparameter_columns = ['DESCRIPTION VARCHAR2(255)', 'DISPLAY_VALUE VARCHAR2(4000)', 'HASH NUMBER(38,127)',\n",
    "                      'ISADJUSTED VARCHAR2(5)', 'ISBASIC VARCHAR2(5)', 'ISDEFAULT VARCHAR2(9)',\n",
    "                      'ISDEPRECATED VARCHAR2(5)', 'ISINSTANCE_MODIFIABLE VARCHAR2(5)', 'ISMODIFIED VARCHAR2(10)',\n",
    "                      'ISSES_MODIFIABLE VARCHAR2(5)', 'ISSYS_MODIFIABLE VARCHAR2(9)', 'NAME VARCHAR2(80)',\n",
    "                      'NUM NUMBER(38,127)', 'TYPE NUMBER(38,127)', 'UPDATE_COMMENT VARCHAR2(255)', 'VALUE VARCHAR2(4000)', 'DB']\n",
    "vparameter = pd.DataFrame(columns=vparameter_columns)\n",
    "dba_users_columns = ['ACCOUNT_STATUS VARCHAR2(32)', 'CREATED DATE(7)',\n",
    "                    'DEFAULT_TABLESPACE VARCHAR2(30)', 'EDITIONS_ENABLED VARCHAR2(1)',\n",
    "                    'EXPIRY_DATE DATE(7)', 'EXTERNAL_NAME VARCHAR2(4000)',\n",
    "                    'INITIAL_RSRC_CONSUMER_GROUP VARCHAR2(128)', 'LOCK_DATE DATE(7)',\n",
    "                    'PASSWORD VARCHAR2(4000)', 'PASSWORD_VERSIONS VARCHAR2(17)',\n",
    "                    'PROFILE VARCHAR2(128)', 'TEMPORARY_TABLESPACE VARCHAR2(30)',\n",
    "                    'USERNAME VARCHAR2(128)', 'USER_ID NUMBER(38,127)', 'DB']\n",
    "dba_users = pd.DataFrame(columns=dba_users_columns)\n",
    "\n",
    "dba_profiles_columns = ['LIMIT VARCHAR2(128)', 'PROFILE VARCHAR2(128)',\n",
    "                        'RESOURCE_NAME VARCHAR2(32)', 'RESOURCE_TYPE VARCHAR2(8)','DB']\n",
    "dba_profiles = pd.DataFrame(columns=dba_profiles_columns)\n",
    "\n",
    "dba_defpass_columns = ['USERNAME VARCHAR2(128)', 'DB']\n",
    "dba_defpass = pd.DataFrame(columns=dba_defpass_columns)\n",
    "\n",
    "dba_sys_privs_columns = ['ADMIN_OPTION VARCHAR2(3)', 'GRANTEE VARCHAR2(128)', 'PRIVILEGE VARCHAR2(40)', 'DB']\n",
    "dba_sys_privs = pd.DataFrame(columns=dba_sys_privs_columns)\n",
    "\n",
    "dba_tab_privs_columns = ['GRANTABLE VARCHAR2(3)', 'GRANTEE VARCHAR2(128)', 'GRANTOR VARCHAR2(128)',\n",
    "                         'HIERARCHY VARCHAR2(3)', 'OWNER VARCHAR2(128)', 'PRIVILEGE VARCHAR2(40)',\n",
    "                         'TABLE_NAME VARCHAR2(128)', 'DB']\n",
    "dba_tab_privs = pd.DataFrame(columns=dba_tab_privs_columns)\n",
    "\n",
    "dba_role_privs_columns = ['ADMIN_OPTION VARCHAR2(3)', 'DEFAULT_ROLE VARCHAR2(3)', 'GRANTED_ROLE VARCHAR2(128)',\n",
    "                          'GRANTEE VARCHAR2(128)']\n",
    "dba_role_privs = pd.DataFrame(columns=dba_role_privs_columns)\n",
    "oracle_tc = pd.read_csv(os.path.join(os.getcwd(),'Oracle_TC.csv'), sep=\";\")\n",
    "nomina = pd.read_excel('nomina.xlsx')\n",
    "nomina['Nombre de usuario'] =  nomina['Nombre de usuario'].apply(lambda x: str(x).upper())\n",
    "nomina_externos = pd.read_excel('nomina_externos.xlsx')\n",
    "nomina_externos['NOMBRE_USUARIO'] = nomina_externos['NOMBRE_USUARIO'].apply(lambda x: str(x).upper()).apply(lambda x: x.replace(\" \",\"\"))\n",
    "nomina_externos.rename(columns={'DEPARTAMENTO':'Departamento_ext'}, inplace=True)\n",
    "critical_bd = pd.read_excel('Universo_SOX_Oracle.xlsx')\n",
    "critical_bd['SCHEMA'] = critical_bd['SCHEMA'].apply(lambda x: str(x).upper()).apply(lambda x: x.replace(\" \",\"\"))"
   ]
  },
  {
   "cell_type": "code",
   "execution_count": 3,
   "metadata": {},
   "outputs": [
    {
     "data": {
      "text/plain": [
       "['bilw01', 'crtw01', 'loyw01', 'payw01', 'priw01']"
      ]
     },
     "execution_count": 3,
     "metadata": {},
     "output_type": "execute_result"
    }
   ],
   "source": [
    "dst_list_dir"
   ]
  },
  {
   "cell_type": "code",
   "execution_count": 4,
   "metadata": {},
   "outputs": [
    {
     "data": {
      "text/plain": [
       "'C:\\\\Users\\\\tlopezradits\\\\OneDrive - Deloitte (O365D)\\\\MELI 2021 Primer Semestre\\\\Oracle Scripts\\\\new\\\\ACTT Oracle Site'"
      ]
     },
     "execution_count": 4,
     "metadata": {},
     "output_type": "execute_result"
    }
   ],
   "source": [
    "dst_dir"
   ]
  },
  {
   "cell_type": "code",
   "execution_count": 5,
   "metadata": {},
   "outputs": [],
   "source": [
    "for o in dst_list_dir:\n",
    "    \n",
    "    df_vparameter = pd.read_csv(os.path.join(dst_dir,o,'VPARAMETER.ACTT'), sep='[|^|]', engine='python')\n",
    "    df_vparameter = df_vparameter.loc[:, ~df_vparameter.columns.str.contains('^Unnamed')]\n",
    "    df_vparameter['DB'] = re.search(r'[a-zA-Z0-9-_]+', o).group().upper()\n",
    "    vparameter = pd.concat([vparameter, df_vparameter], names=vparameter_columns, sort=False)\n",
    "    \n",
    "    users = pd.read_csv(os.path.join(dst_dir,o,'DBA_USERS.ACTT'), sep='[|^|]', engine='python')\n",
    "    users = users.loc[:, ~users.columns.str.contains('^Unnamed')]\n",
    "    users['DB'] = re.search(r'[a-zA-Z0-9-_]+', o).group().upper()\n",
    "    dba_users = pd.concat([dba_users, users], names=dba_users_columns, sort=False)\n",
    "    \n",
    "    profiles = pd.read_csv(os.path.join(dst_dir,o,'DBA_PROFILES.ACTT'), sep='[|^|]', engine='python')\n",
    "    profiles = profiles.loc[:, ~profiles.columns.str.contains('^Unnamed')]\n",
    "    profiles['DB'] = re.search(r'[a-zA-Z0-9-_]+', o).group().upper()\n",
    "    dba_profiles = pd.concat([dba_profiles, profiles], names=dba_profiles_columns, sort=False)    \n",
    "    \n",
    "    df_defpass = pd.read_csv(os.path.join(dst_dir,o,'DBA_USERS_WITH_DEFPWD.ACTT'), sep='[|^|]', engine='python')\n",
    "    df_defpass = df_defpass.loc[:, ~df_defpass.columns.str.contains('^Unnamed')]\n",
    "    df_defpass['DB'] = re.search(r'[a-zA-Z0-9-_]+', o).group().upper()\n",
    "    dba_defpass = pd.concat([dba_defpass, df_defpass], names=dba_defpass_columns, sort=False)\n",
    "    \n",
    "    df_sys_privs = pd.read_csv(os.path.join(dst_dir,o,'DBA_SYS_PRIVS.ACTT'), sep='[|^|]', engine='python')\n",
    "    df_sys_privs = df_sys_privs.loc[:, ~df_sys_privs.columns.str.contains('^Unnamed')]\n",
    "    df_sys_privs['DB'] = re.search(r'[a-zA-Z0-9-_]+', o).group().upper()\n",
    "    dba_sys_privs = pd.concat([dba_sys_privs, df_sys_privs], names=dba_sys_privs_columns, sort=False)\n",
    "    \n",
    "    df_tab_privs = pd.read_csv(os.path.join(dst_dir,o,'DBA_TAB_PRIVS.ACTT'), sep='[|^|]', engine='python')\n",
    "    df_tab_privs = df_tab_privs.loc[:, ~df_tab_privs.columns.str.contains('^Unnamed')]\n",
    "    df_tab_privs['DB'] = re.search(r'[a-zA-Z0-9-_]+', o).group().upper()\n",
    "    dba_tab_privs = pd.concat([dba_tab_privs, df_tab_privs], names=dba_tab_privs_columns, sort=False)\n",
    "    \n",
    "    df_role_privs = pd.read_csv(os.path.join(dst_dir,o,'DBA_ROLE_PRIVS.ACTT'), sep='[|^|]', engine='python')\n",
    "    df_role_privs = df_role_privs.loc[:, ~df_role_privs.columns.str.contains('^Unnamed')]\n",
    "    df_role_privs['DB'] = re.search(r'[a-zA-Z0-9-_]+', o).group().upper()\n",
    "    dba_role_privs = pd.concat([dba_role_privs, df_role_privs], names=dba_role_privs_columns, sort=False)"
   ]
  },
  {
   "cell_type": "code",
   "execution_count": 6,
   "metadata": {},
   "outputs": [],
   "source": [
    "vparameter = vparameter[['NAME VARCHAR2(80)', 'VALUE VARCHAR2(4000)', 'DESCRIPTION VARCHAR2(255)','DB']].applymap(lambda x: str(x).strip())\n",
    "vparameter[['NAME VARCHAR2(80)', 'VALUE VARCHAR2(4000)','DB']] = vparameter[['NAME VARCHAR2(80)', 'VALUE VARCHAR2(4000)','DB']].applymap(lambda x: str(x).replace(\"  \",\"\"))\n",
    "vparameter.rename(columns ={'NAME VARCHAR2(80)':'NAME',\n",
    "                            'VALUE VARCHAR2(4000)':'VALUE',\n",
    "                            'DESCRIPTION VARCHAR2(255)': 'DESCRIPTION'}, inplace=True)\n",
    "\n",
    "dba_users = dba_users[['USERNAME VARCHAR2(128)', 'ACCOUNT_STATUS VARCHAR2(32)', 'PROFILE VARCHAR2(128)','EXTERNAL_NAME VARCHAR2(4000)','DB']].applymap(lambda x: str(x).strip()).applymap(lambda x: str(x).replace(\"  \",\"\"))\n",
    "dba_users.rename(columns ={'USERNAME VARCHAR2(128)':'USERNAME',\n",
    "                           'ACCOUNT_STATUS VARCHAR2(32)':'ACCOUNT_STATUS',\n",
    "                           'PROFILE VARCHAR2(128)':'PROFILE',\n",
    "                           'EXTERNAL_NAME VARCHAR2(4000)':'EXTERNAL_NAME'}, inplace=True)\n",
    "dba_profiles.rename(columns={'LIMIT VARCHAR2(128)': 'LIMIT', \n",
    "                             'PROFILE VARCHAR2(128)': 'PROFILE',\n",
    "                             'RESOURCE_NAME VARCHAR2(32)': 'RESOURCE_NAME',\n",
    "                             'RESOURCE_TYPE VARCHAR2(8)': 'RESOURCE_TYPE'}, inplace=True)\n",
    "dba_sys_privs = dba_sys_privs.applymap(lambda x: str(x).strip()).applymap(lambda x: str(x).replace(\"  \",\"\"))\n",
    "dba_sys_privs.rename(columns={'ADMIN_OPTION VARCHAR2(3)':'ADMIN_OPTION ',\n",
    "                             'GRANTEE VARCHAR2(128)':'GRANTEE',\n",
    "                             'PRIVILEGE VARCHAR2(40)':'PRIVILEGE'}, inplace=True)\n",
    "dba_tab_privs = dba_tab_privs[['GRANTEE VARCHAR2(128)', 'OWNER VARCHAR2(128)',\n",
    "                             'PRIVILEGE VARCHAR2(40)', 'TABLE_NAME VARCHAR2(128)', 'DB']].applymap(lambda x: str(x).strip()).applymap(lambda x: str(x).replace(\"  \",\"\"))\n",
    "dba_tab_privs.rename(columns={'GRANTEE VARCHAR2(128)':'GRANTEE', \n",
    "                              'OWNER VARCHAR2(128)':'OWNER',\n",
    "                              'PRIVILEGE VARCHAR2(40)':'PRIVILEGE', \n",
    "                              'TABLE_NAME VARCHAR2(128)':'TABLE_NAME'}, inplace=True)\n",
    "dba_role_privs = dba_role_privs.applymap(lambda x: str(x).strip()).applymap(lambda x: str(x).replace(\"  \",\"\"))\n",
    "dba_role_privs.rename(columns={'ADMIN_OPTION VARCHAR2(3)':'ADMIN_OPTION',\n",
    "                               'DEFAULT_ROLE VARCHAR2(3)':'DEFAULT_ROLE',\n",
    "                               'GRANTED_ROLE VARCHAR2(128)':'GRANTED_ROLE',\n",
    "                               'GRANTEE VARCHAR2(128)':'GRANTEE'}, inplace=True)"
   ]
  },
  {
   "cell_type": "code",
   "execution_count": 7,
   "metadata": {},
   "outputs": [],
   "source": [
    "vparameter_mask = (vparameter['NAME'] == 'os_authent_prefix') | \\\n",
    "                    (vparameter['NAME'] == 'os_roles') | \\\n",
    "                    (vparameter['NAME'] == 'remote_os_roles')\n",
    "vparameter = vparameter[vparameter_mask].reset_index(drop=True)\n",
    "\n",
    "mask_dba_users = (dba_users['ACCOUNT_STATUS'] == 'OPEN') | \\\n",
    "                    (dba_users['ACCOUNT_STATUS'] == 'EXPIRED') | \\\n",
    "                    (dba_users['ACCOUNT_STATUS'] == 'EXPIRED(GRACE)')\n",
    "dba_users = dba_users[mask_dba_users].reset_index(drop=True)"
   ]
  },
  {
   "cell_type": "code",
   "execution_count": 8,
   "metadata": {},
   "outputs": [],
   "source": [
    "sys_privs = ['ALTER DATABASE', 'ALTER ANY PROCEDURE', 'ALTER ANY ROLE', 'ALTER ANY TABLE', \n",
    "            'ALTER PROFILE', 'ALTER SYSTEM', 'ALTER USER', 'BECOME USER', 'CREATE ANY CLUSTER', \n",
    "            'CREATE ANY TABLE', 'CREATE PROFILE', 'CREATE ROLE', 'CREATE USER', 'DELETE ANY TABLE',\n",
    "            'DROP ANY LIBRARY', 'DROP ANY PROCEDURE', 'DROP ANY ROLE', 'DROP ANY TABLE',\n",
    "            'DROP PROFILE', 'DROP TABLESPACE', 'DROP USER', 'GRANT ANY PRIVILEGE', 'GRANT ANY ROLE',\n",
    "            'INSERT ANY TABLE', 'RESTRICTED SESSION', 'UPDATE ANY TABLE']\n",
    "\n",
    "dba_sys_privs_critical = pd.DataFrame(columns=list(dba_sys_privs.columns))\n",
    "for priv in sys_privs:\n",
    "    sys_privs_mask = (dba_sys_privs['PRIVILEGE'] == priv)\n",
    "    dba_sys_privs_critical = pd.concat([dba_sys_privs_critical, dba_sys_privs[sys_privs_mask]], sort=False).reset_index(drop=True)\n",
    "\n",
    "del dba_sys_privs"
   ]
  },
  {
   "cell_type": "code",
   "execution_count": 9,
   "metadata": {},
   "outputs": [],
   "source": [
    "productive_schemas = list(critical_bd['SCHEMA'].unique())\n",
    "sys_schemas = list(['SYS'])\n",
    "critical_schemas = sys_schemas + productive_schemas\n",
    "\n",
    "dba_tab_privs_schemas = pd.DataFrame(columns=list(dba_tab_privs.columns))\n",
    "for schema in critical_schemas:\n",
    "    tab_schema_mask = (dba_tab_privs['OWNER'] == schema)\n",
    "    dba_tab_privs_schemas = pd.concat([dba_tab_privs_schemas, dba_tab_privs[tab_schema_mask]], sort=False).reset_index(drop=True)\n"
   ]
  },
  {
   "cell_type": "code",
   "execution_count": 10,
   "metadata": {},
   "outputs": [],
   "source": [
    "tab_privs = ['INSERT', 'UPDATE', 'DELETE', 'ALTER']\n",
    "dba_tab_privs_critical = pd.DataFrame(columns=list(dba_tab_privs.columns))\n",
    "for priv in tab_privs:\n",
    "    tab_privs_mask = (dba_tab_privs_schemas['PRIVILEGE'] == priv)\n",
    "    dba_tab_privs_critical = pd.concat([dba_tab_privs_critical, dba_tab_privs_schemas[tab_privs_mask]], sort=False).reset_index(drop=True)\n",
    "    \n",
    "del dba_tab_privs\n",
    "del dba_tab_privs_schemas"
   ]
  },
  {
   "cell_type": "code",
   "execution_count": 11,
   "metadata": {},
   "outputs": [],
   "source": [
    "dba_role_sysprivs_critical = pd.merge(dba_role_privs, dba_sys_privs_critical, how='inner', left_on=['GRANTED_ROLE','DB'],\n",
    "                                      right_on=['GRANTEE','DB'], validate='many_to_many').drop_duplicates().reset_index(drop=True)\n",
    "dba_role_tabprivs_critical = pd.merge(dba_role_privs, dba_tab_privs_critical, how='inner', left_on=['GRANTED_ROLE','DB'],\n",
    "                                      right_on=['GRANTEE','DB'], validate='many_to_many').drop_duplicates().reset_index(drop=True)\n"
   ]
  },
  {
   "cell_type": "code",
   "execution_count": 12,
   "metadata": {
    "scrolled": true
   },
   "outputs": [],
   "source": [
    "dba_tab_privs_critical = pd.merge(dba_tab_privs_critical, oracle_tc[['schema_name','db_name','table_name']],\n",
    "                                  how='left', left_on='TABLE_NAME', right_on='table_name', \n",
    "                                  validate='many_to_many').drop_duplicates().reset_index(drop=True)\n",
    "dba_tab_privs_critical.rename(columns={'table_name':'TABLA_CRITICA',\n",
    "                                      'schema_name': 'CRITICAL_SCHEMA_NAME',\n",
    "                                      'db_name': 'CRITICAL_DB_NAME'}, inplace=True)"
   ]
  },
  {
   "cell_type": "code",
   "execution_count": 13,
   "metadata": {},
   "outputs": [],
   "source": [
    "dba_role_tabprivs_critical = pd.merge(dba_role_tabprivs_critical, oracle_tc[['schema_name','db_name','table_name']],\n",
    "                                  how='left', left_on='TABLE_NAME', right_on='table_name', \n",
    "                                  validate='many_to_many').drop_duplicates().reset_index(drop=True)\n",
    "dba_role_tabprivs_critical.rename(columns={'table_name':'TABLA_CRITICA',\n",
    "                                      'schema_name': 'CRITICAL_SCHEMA_NAME',\n",
    "                                      'db_name': 'CRITICAL_DB_NAME'}, inplace=True)"
   ]
  },
  {
   "cell_type": "code",
   "execution_count": 14,
   "metadata": {},
   "outputs": [],
   "source": [
    "manual_tc = ['(^DBA_USERS$)', '(^USER$)', '(^DBA_SYS_PRIVS$)', '(^DBA_TAB_PRIVS$)', '(^DBA_ROLE_PRIVS$)', '(^DBA_PROFILES$)', '(^DBA_OBJECTS$)']\n",
    "c1 = dba_tab_privs_critical['TABLE_NAME'].str.match('|'.join(manual_tc))\n",
    "dba_tab_privs_critical['TABLA_CRITICA'][dba_tab_privs_critical['TABLA_CRITICA'].isnull()] = np.select([c1], [dba_tab_privs_critical['TABLA_CRITICA'].fillna(1)])\n",
    "dba_tab_privs_critical['TABLA_CRITICA'].loc[dba_tab_privs_critical['TABLA_CRITICA'] != 0] = 1\n",
    "c2 = dba_role_tabprivs_critical['TABLE_NAME'].str.match('|'.join(manual_tc))\n",
    "dba_role_tabprivs_critical['TABLA_CRITICA'][dba_role_tabprivs_critical['TABLA_CRITICA'].isnull()] = np.select([c2], [dba_role_tabprivs_critical['TABLA_CRITICA'].fillna(1)])\n",
    "dba_role_tabprivs_critical['TABLA_CRITICA'].loc[dba_role_tabprivs_critical['TABLA_CRITICA'] != 0] = 1"
   ]
  },
  {
   "cell_type": "code",
   "execution_count": 15,
   "metadata": {},
   "outputs": [],
   "source": [
    "dba_tab_privs_critical = pd.merge(dba_tab_privs_critical, nomina[['Nombre de usuario', 'Departamento']], how='left', left_on='GRANTEE', right_on='Nombre de usuario').drop('Nombre de usuario', axis=1)\n",
    "dba_tab_privs_critical = pd.merge(dba_tab_privs_critical, nomina_externos[['NOMBRE_USUARIO', 'Departamento_ext']], how='left', left_on='GRANTEE', right_on='NOMBRE_USUARIO').drop('NOMBRE_USUARIO', axis=1)\n",
    "dba_tab_privs_critical['Comentario'] = 'N/A'"
   ]
  },
  {
   "cell_type": "code",
   "execution_count": 16,
   "metadata": {},
   "outputs": [],
   "source": [
    "dba_role_tabprivs_critical = pd.merge(dba_role_tabprivs_critical, nomina[['Nombre de usuario', 'Departamento']], how='left', left_on='GRANTEE_x', right_on='Nombre de usuario').drop('Nombre de usuario', axis=1)\n",
    "dba_role_tabprivs_critical = pd.merge(dba_role_tabprivs_critical, nomina_externos[['NOMBRE_USUARIO', 'Departamento_ext']], how='left', left_on='GRANTEE_x', right_on='NOMBRE_USUARIO').drop('NOMBRE_USUARIO', axis=1)\n",
    "dba_role_tabprivs_critical['Comentario'] = 'N/A'"
   ]
  },
  {
   "cell_type": "code",
   "execution_count": 17,
   "metadata": {},
   "outputs": [],
   "source": [
    "comment_mask = (dba_tab_privs_critical['Departamento'].isnull()) & (dba_tab_privs_critical['Departamento_ext'].isnull()) & (dba_tab_privs_critical['TABLA_CRITICA'] == 0)"
   ]
  },
  {
   "cell_type": "code",
   "execution_count": 18,
   "metadata": {},
   "outputs": [],
   "source": [
    "dba_tab_privs_critical['Comentario'][comment_mask] = 'Privilegio no relevante, tabla no crítica'"
   ]
  },
  {
   "cell_type": "code",
   "execution_count": 19,
   "metadata": {},
   "outputs": [],
   "source": [
    "comment_mask = (dba_role_tabprivs_critical['Departamento'].isnull()) & (dba_role_tabprivs_critical['Departamento_ext'].isnull()) & (dba_role_tabprivs_critical['TABLA_CRITICA'] == 0)\n"
   ]
  },
  {
   "cell_type": "code",
   "execution_count": 20,
   "metadata": {},
   "outputs": [],
   "source": [
    "dba_role_tabprivs_critical['Comentario'][comment_mask] = 'Privilegio no relevante, tabla no crítica'"
   ]
  },
  {
   "cell_type": "code",
   "execution_count": 21,
   "metadata": {},
   "outputs": [],
   "source": [
    "common_user_mask = (dba_tab_privs_critical['Departamento'].isnull()) & (dba_tab_privs_critical['Departamento_ext'].isnull()) & (dba_tab_privs_critical['Comentario'] == 'N/A')\n",
    "common_user_mask2 = (dba_role_tabprivs_critical['Departamento'].isnull()) & (dba_role_tabprivs_critical['Departamento_ext'].isnull()) & (dba_role_tabprivs_critical['Comentario'] == 'N/A')"
   ]
  },
  {
   "cell_type": "code",
   "execution_count": 22,
   "metadata": {},
   "outputs": [],
   "source": [
    "common_users = ['SYS','MIGRA', 'SEGINF', 'APP_ORACLE_GANDALF', 'GGAAS', 'GGS',\n",
    "                'GSM','APEX_', 'MONITOR', 'SPATIAL_CSW_ADMIN_USR',\n",
    "                'ALTER_QA', 'BULK_DB', 'CONSULTAS_EXC', '_READONLY']\n",
    "own_default_users = ('_W01', 'W01PROD', 'W01PROD2', 'W02PROD', '_W_I1', '_W_I2', 'DBPROD')\n",
    "c1 = dba_tab_privs_critical['GRANTEE'].str.contains('|'.join(common_users))\n",
    "c2 = dba_tab_privs_critical['GRANTEE'].str.endswith(own_default_users)\n",
    "c3 = dba_role_tabprivs_critical['GRANTEE_x'].str.contains('|'.join(common_users))\n",
    "c4 = dba_role_tabprivs_critical['GRANTEE_x'].str.endswith(own_default_users)\n",
    "\n",
    "dba_tab_privs_critical['Comentario'][common_user_mask] = np.select([c1,c2], \n",
    "                                                                          [dba_tab_privs_critical['Comentario'].replace('N/A','Usuario de gestion de aplicativo comun a todas las bases'),\n",
    "                                                                           dba_tab_privs_critical['Comentario'].replace('N/A','Usuario de schema comun a todas las bases al momento de crearlas')])\n",
    "dba_role_tabprivs_critical['Comentario'][common_user_mask2] = np.select([c3,c4], \n",
    "                                                                          [dba_role_tabprivs_critical['Comentario'].replace('N/A','Usuario de gestion de aplicativo comun a todas las bases'),\n",
    "                                                                           dba_role_tabprivs_critical['Comentario'].replace('N/A','Usuario de schema comun a todas las bases al momento de crearlas')])"
   ]
  },
  {
   "cell_type": "code",
   "execution_count": 23,
   "metadata": {},
   "outputs": [
    {
     "data": {
      "text/plain": [
       "Index(['ADMIN_OPTION ', 'GRANTEE', 'PRIVILEGE', 'DB'], dtype='object')"
      ]
     },
     "execution_count": 23,
     "metadata": {},
     "output_type": "execute_result"
    }
   ],
   "source": [
    "dba_sys_privs_critical.columns"
   ]
  },
  {
   "cell_type": "code",
   "execution_count": 24,
   "metadata": {},
   "outputs": [
    {
     "data": {
      "text/plain": [
       "Index(['ADMIN_OPTION', 'DEFAULT_ROLE', 'GRANTED_ROLE', 'GRANTEE_x', 'DB',\n",
       "       'ADMIN_OPTION ', 'GRANTEE_y', 'PRIVILEGE'],\n",
       "      dtype='object')"
      ]
     },
     "execution_count": 24,
     "metadata": {},
     "output_type": "execute_result"
    }
   ],
   "source": [
    "dba_role_sysprivs_critical.columns"
   ]
  },
  {
   "cell_type": "code",
   "execution_count": 25,
   "metadata": {},
   "outputs": [],
   "source": [
    "critical_roles = pd.DataFrame(dba_role_sysprivs_critical['GRANTED_ROLE'].drop_duplicates().reset_index(drop=True))\n",
    "critical_roles.rename(columns={'GRANTED_ROLE':'CRITICAL_ROLE'}, inplace=True)"
   ]
  },
  {
   "cell_type": "code",
   "execution_count": 26,
   "metadata": {},
   "outputs": [
    {
     "data": {
      "text/plain": [
       "Index(['CRITICAL_ROLE'], dtype='object')"
      ]
     },
     "execution_count": 26,
     "metadata": {},
     "output_type": "execute_result"
    }
   ],
   "source": [
    "critical_roles.columns"
   ]
  },
  {
   "cell_type": "code",
   "execution_count": 27,
   "metadata": {},
   "outputs": [
    {
     "data": {
      "text/html": [
       "<div>\n",
       "<style scoped>\n",
       "    .dataframe tbody tr th:only-of-type {\n",
       "        vertical-align: middle;\n",
       "    }\n",
       "\n",
       "    .dataframe tbody tr th {\n",
       "        vertical-align: top;\n",
       "    }\n",
       "\n",
       "    .dataframe thead th {\n",
       "        text-align: right;\n",
       "    }\n",
       "</style>\n",
       "<table border=\"1\" class=\"dataframe\">\n",
       "  <thead>\n",
       "    <tr style=\"text-align: right;\">\n",
       "      <th></th>\n",
       "      <th>CRITICAL_ROLE</th>\n",
       "    </tr>\n",
       "  </thead>\n",
       "  <tbody>\n",
       "    <tr>\n",
       "      <th>0</th>\n",
       "      <td>DBA</td>\n",
       "    </tr>\n",
       "    <tr>\n",
       "      <th>1</th>\n",
       "      <td>EM_EXPRESS_ALL</td>\n",
       "    </tr>\n",
       "    <tr>\n",
       "      <th>2</th>\n",
       "      <td>GSMADMIN_ROLE</td>\n",
       "    </tr>\n",
       "    <tr>\n",
       "      <th>3</th>\n",
       "      <td>DATAPUMP_IMP_FULL_DATABASE</td>\n",
       "    </tr>\n",
       "    <tr>\n",
       "      <th>4</th>\n",
       "      <td>IMP_FULL_DATABASE</td>\n",
       "    </tr>\n",
       "  </tbody>\n",
       "</table>\n",
       "</div>"
      ],
      "text/plain": [
       "                CRITICAL_ROLE\n",
       "0                         DBA\n",
       "1              EM_EXPRESS_ALL\n",
       "2               GSMADMIN_ROLE\n",
       "3  DATAPUMP_IMP_FULL_DATABASE\n",
       "4           IMP_FULL_DATABASE"
      ]
     },
     "execution_count": 27,
     "metadata": {},
     "output_type": "execute_result"
    }
   ],
   "source": [
    "critical_roles"
   ]
  },
  {
   "cell_type": "code",
   "execution_count": 28,
   "metadata": {},
   "outputs": [
    {
     "name": "stderr",
     "output_type": "stream",
     "text": [
      "<ipython-input-28-e4c0bc4d5663>:10: SettingWithCopyWarning: \n",
      "A value is trying to be set on a copy of a slice from a DataFrame\n",
      "\n",
      "See the caveats in the documentation: https://pandas.pydata.org/pandas-docs/stable/user_guide/indexing.html#returning-a-view-versus-a-copy\n",
      "  dba_sys_privs_critical['Comentario'][common_user_mask] = np.select([c1,c2],\n"
     ]
    }
   ],
   "source": [
    "dba_sys_privs_critical = pd.merge(dba_sys_privs_critical, nomina[['Nombre de usuario', 'Departamento']], how='left', left_on='GRANTEE', right_on='Nombre de usuario').drop('Nombre de usuario', axis=1)\n",
    "dba_sys_privs_critical = pd.merge(dba_sys_privs_critical, nomina_externos[['NOMBRE_USUARIO', 'Departamento_ext']], how='left', left_on='GRANTEE', right_on='NOMBRE_USUARIO').drop('NOMBRE_USUARIO', axis=1)\n",
    "dba_sys_privs_critical = pd.merge(dba_sys_privs_critical, critical_roles, how='left', left_on='GRANTEE', right_on='CRITICAL_ROLE')\n",
    "dba_sys_privs_critical['CRITICAL_ROLE'][dba_sys_privs_critical['CRITICAL_ROLE'].notnull()] = 1\n",
    "dba_sys_privs_critical['CRITICAL_ROLE'][dba_sys_privs_critical['CRITICAL_ROLE'].isnull()] = 0\n",
    "common_user_mask = (dba_sys_privs_critical['Departamento'].isnull()) & (dba_sys_privs_critical['Departamento_ext'].isnull()) & (dba_sys_privs_critical['CRITICAL_ROLE'] == 0)\n",
    "dba_sys_privs_critical['Comentario'] = np.NaN\n",
    "c1 = dba_sys_privs_critical['GRANTEE'].str.contains('|'.join(common_users))\n",
    "c2 = dba_sys_privs_critical['GRANTEE'].str.endswith(own_default_users)\n",
    "dba_sys_privs_critical['Comentario'][common_user_mask] = np.select([c1,c2], \n",
    "                                                                          [dba_sys_privs_critical['Comentario'].fillna('Usuario de gestion de aplicativo comun a todas las bases'),\n",
    "                                                                           dba_sys_privs_critical['Comentario'].fillna('Usuario de schema comun a todas las bases al momento de crearlas')])\n",
    "dba_sys_privs_critical['Comentario'][dba_sys_privs_critical['CRITICAL_ROLE'] == 1] = 'Se corresponde con un rol'"
   ]
  },
  {
   "cell_type": "code",
   "execution_count": 29,
   "metadata": {},
   "outputs": [
    {
     "data": {
      "text/html": [
       "<div>\n",
       "<style scoped>\n",
       "    .dataframe tbody tr th:only-of-type {\n",
       "        vertical-align: middle;\n",
       "    }\n",
       "\n",
       "    .dataframe tbody tr th {\n",
       "        vertical-align: top;\n",
       "    }\n",
       "\n",
       "    .dataframe thead th {\n",
       "        text-align: right;\n",
       "    }\n",
       "</style>\n",
       "<table border=\"1\" class=\"dataframe\">\n",
       "  <thead>\n",
       "    <tr style=\"text-align: right;\">\n",
       "      <th></th>\n",
       "      <th>ADMIN_OPTION</th>\n",
       "      <th>GRANTEE</th>\n",
       "      <th>PRIVILEGE</th>\n",
       "      <th>DB</th>\n",
       "      <th>Departamento</th>\n",
       "      <th>Departamento_ext</th>\n",
       "      <th>CRITICAL_ROLE</th>\n",
       "      <th>Comentario</th>\n",
       "    </tr>\n",
       "  </thead>\n",
       "  <tbody>\n",
       "    <tr>\n",
       "      <th>0</th>\n",
       "      <td>NO</td>\n",
       "      <td>IMP_FULL_DATABASE</td>\n",
       "      <td>ALTER DATABASE</td>\n",
       "      <td>BILW01</td>\n",
       "      <td>NaN</td>\n",
       "      <td>NaN</td>\n",
       "      <td>1</td>\n",
       "      <td>Se corresponde con un rol</td>\n",
       "    </tr>\n",
       "    <tr>\n",
       "      <th>1</th>\n",
       "      <td>NO</td>\n",
       "      <td>SYSBACKUP</td>\n",
       "      <td>ALTER DATABASE</td>\n",
       "      <td>BILW01</td>\n",
       "      <td>NaN</td>\n",
       "      <td>NaN</td>\n",
       "      <td>0</td>\n",
       "      <td>Usuario de gestion de aplicativo comun a todas...</td>\n",
       "    </tr>\n",
       "    <tr>\n",
       "      <th>2</th>\n",
       "      <td>NO</td>\n",
       "      <td>DBA</td>\n",
       "      <td>ALTER DATABASE</td>\n",
       "      <td>BILW01</td>\n",
       "      <td>NaN</td>\n",
       "      <td>NaN</td>\n",
       "      <td>1</td>\n",
       "      <td>Se corresponde con un rol</td>\n",
       "    </tr>\n",
       "    <tr>\n",
       "      <th>3</th>\n",
       "      <td>NO</td>\n",
       "      <td>SYS</td>\n",
       "      <td>ALTER DATABASE</td>\n",
       "      <td>BILW01</td>\n",
       "      <td>NaN</td>\n",
       "      <td>NaN</td>\n",
       "      <td>0</td>\n",
       "      <td>Usuario de gestion de aplicativo comun a todas...</td>\n",
       "    </tr>\n",
       "    <tr>\n",
       "      <th>4</th>\n",
       "      <td>NO</td>\n",
       "      <td>DATAPUMP_IMP_FULL_DATABASE</td>\n",
       "      <td>ALTER DATABASE</td>\n",
       "      <td>BILW01</td>\n",
       "      <td>NaN</td>\n",
       "      <td>NaN</td>\n",
       "      <td>1</td>\n",
       "      <td>Se corresponde con un rol</td>\n",
       "    </tr>\n",
       "  </tbody>\n",
       "</table>\n",
       "</div>"
      ],
      "text/plain": [
       "  ADMIN_OPTION                      GRANTEE       PRIVILEGE      DB  \\\n",
       "0            NO           IMP_FULL_DATABASE  ALTER DATABASE  BILW01   \n",
       "1            NO                   SYSBACKUP  ALTER DATABASE  BILW01   \n",
       "2            NO                         DBA  ALTER DATABASE  BILW01   \n",
       "3            NO                         SYS  ALTER DATABASE  BILW01   \n",
       "4            NO  DATAPUMP_IMP_FULL_DATABASE  ALTER DATABASE  BILW01   \n",
       "\n",
       "  Departamento Departamento_ext CRITICAL_ROLE  \\\n",
       "0          NaN              NaN             1   \n",
       "1          NaN              NaN             0   \n",
       "2          NaN              NaN             1   \n",
       "3          NaN              NaN             0   \n",
       "4          NaN              NaN             1   \n",
       "\n",
       "                                          Comentario  \n",
       "0                          Se corresponde con un rol  \n",
       "1  Usuario de gestion de aplicativo comun a todas...  \n",
       "2                          Se corresponde con un rol  \n",
       "3  Usuario de gestion de aplicativo comun a todas...  \n",
       "4                          Se corresponde con un rol  "
      ]
     },
     "execution_count": 29,
     "metadata": {},
     "output_type": "execute_result"
    }
   ],
   "source": [
    "dba_sys_privs_critical.head()"
   ]
  },
  {
   "cell_type": "code",
   "execution_count": 30,
   "metadata": {},
   "outputs": [
    {
     "name": "stderr",
     "output_type": "stream",
     "text": [
      "<ipython-input-30-7f3ebef19080>:9: SettingWithCopyWarning: \n",
      "A value is trying to be set on a copy of a slice from a DataFrame\n",
      "\n",
      "See the caveats in the documentation: https://pandas.pydata.org/pandas-docs/stable/user_guide/indexing.html#returning-a-view-versus-a-copy\n",
      "  dba_role_sysprivs_critical['Comentario'][common_user_mask] = np.select([c1,c2,c3],\n"
     ]
    }
   ],
   "source": [
    "granted_roles = list(dba_role_sysprivs_critical['GRANTED_ROLE'].unique())\n",
    "dba_role_sysprivs_critical = pd.merge(dba_role_sysprivs_critical, nomina[['Nombre de usuario', 'Departamento']], how='left', left_on='GRANTEE_x', right_on='Nombre de usuario').drop('Nombre de usuario', axis=1)\n",
    "dba_role_sysprivs_critical = pd.merge(dba_role_sysprivs_critical, nomina_externos[['NOMBRE_USUARIO', 'Departamento_ext']], how='left', left_on='GRANTEE_x', right_on='NOMBRE_USUARIO').drop('NOMBRE_USUARIO', axis=1)\n",
    "c1 = dba_role_sysprivs_critical['GRANTEE_x'].str.contains('|'.join(common_users))\n",
    "c2 = dba_role_sysprivs_critical['GRANTEE_x'].str.endswith(own_default_users)\n",
    "c3 = dba_role_sysprivs_critical['GRANTEE_x'].str.contains('|'.join(granted_roles))\n",
    "common_user_mask = (dba_role_sysprivs_critical['Departamento'].isnull()) & (dba_role_sysprivs_critical['Departamento_ext'].isnull())\n",
    "dba_role_sysprivs_critical['Comentario'] = np.NaN\n",
    "dba_role_sysprivs_critical['Comentario'][common_user_mask] = np.select([c1,c2,c3], \n",
    "                                                                          [dba_role_sysprivs_critical['Comentario'].fillna('Usuario de gestion de aplicativo comun a todas las bases'),\n",
    "                                                                           dba_role_sysprivs_critical['Comentario'].fillna('Usuario de schema comun a todas las bases al momento de crearlas'),\n",
    "                                                                           dba_role_sysprivs_critical['Comentario'].fillna('Corresponde a un rol dentro de otro rol')])"
   ]
  },
  {
   "cell_type": "code",
   "execution_count": 31,
   "metadata": {},
   "outputs": [],
   "source": [
    "critical_sys_users = dba_sys_privs_critical[['GRANTEE', 'DB']].drop_duplicates().reset_index(drop=True)\n",
    "critical_sys_users_byrole = dba_role_sysprivs_critical[['GRANTEE_x', 'DB']].drop_duplicates().reset_index(drop=True)\n",
    "critical_sys_users_byrole.rename(columns={'GRANTEE_x':'GRANTEE'}, inplace=True)\n",
    "critical_tab_users = dba_tab_privs_critical[['GRANTEE', 'DB','CRITICAL_SCHEMA_NAME']].drop_duplicates().reset_index(drop=True)\n",
    "critical_tab_users = critical_tab_users[critical_tab_users['CRITICAL_SCHEMA_NAME'].notnull()].drop_duplicates().reset_index(drop=True)\n",
    "critical_tab_users = critical_tab_users[['GRANTEE', 'DB']].drop_duplicates().reset_index(drop=True)\n",
    "critical_tab_users_byrole = dba_role_tabprivs_critical[['GRANTEE_x', 'DB']].drop_duplicates().reset_index(drop=True)\n",
    "critical_tab_users_byrole.rename(columns={'GRANTEE_x':'GRANTEE'}, inplace=True)\n",
    "total_critical_users = pd.concat([critical_sys_users,critical_sys_users_byrole,critical_tab_users,critical_tab_users_byrole], axis=0).drop_duplicates().reset_index(drop=True)\n",
    "total_critical_users.rename(columns={'GRANTEE':'USERNAME'}, inplace=True)\n",
    "critical_profiles = pd.merge(dba_users[['USERNAME','PROFILE', 'EXTERNAL_NAME','DB']], total_critical_users, how='left', on=['USERNAME','DB'])\n",
    "critical_profiles = critical_profiles[critical_profiles['PROFILE'].notnull()]\n",
    "critical_profiles.rename(columns= {'PROFILE':'CRITICAL_PROFILE'}, inplace=True)"
   ]
  },
  {
   "cell_type": "code",
   "execution_count": 32,
   "metadata": {},
   "outputs": [
    {
     "name": "stderr",
     "output_type": "stream",
     "text": [
      "<ipython-input-32-21a01502cb22>:5: SettingWithCopyWarning: \n",
      "A value is trying to be set on a copy of a slice from a DataFrame\n",
      "\n",
      "See the caveats in the documentation: https://pandas.pydata.org/pandas-docs/stable/user_guide/indexing.html#returning-a-view-versus-a-copy\n",
      "  dba_profiles['Comentario'][dba_profiles['CRITICAL_PROFILE'] == 0] = 'Valores no relevantes, perfil sin usuarios críticos'\n"
     ]
    }
   ],
   "source": [
    "dba_profiles = pd.merge(dba_profiles,critical_profiles[['CRITICAL_PROFILE','DB']].drop_duplicates().reset_index(drop=True), how='left', left_on=['PROFILE','DB'], right_on=['CRITICAL_PROFILE','DB'])\n",
    "dba_profiles['CRITICAL_PROFILE'][dba_profiles['CRITICAL_PROFILE'].notnull()] = 1\n",
    "dba_profiles['CRITICAL_PROFILE'][dba_profiles['CRITICAL_PROFILE'].isnull()] = 0\n",
    "dba_profiles['Comentario'] = np.nan\n",
    "dba_profiles['Comentario'][dba_profiles['CRITICAL_PROFILE'] == 0] = 'Valores no relevantes, perfil sin usuarios críticos'"
   ]
  },
  {
   "cell_type": "code",
   "execution_count": 33,
   "metadata": {},
   "outputs": [],
   "source": [
    "dba_sys_privs_critical.rename(columns={'GRANTEE':'USER/ROLE'}, inplace=True)\n",
    "dba_role_sysprivs_critical.rename(columns={'GRANTEE_x':'USER/ROLE'}, inplace=True)\n",
    "dba_tab_privs_critical.rename(columns={'GRANTEE':'USER/ROLE'}, inplace=True)\n",
    "dba_role_tabprivs_critical.rename(columns={'GRANTEE_x':'USER/ROLE'}, inplace=True)"
   ]
  },
  {
   "cell_type": "code",
   "execution_count": 34,
   "metadata": {},
   "outputs": [],
   "source": [
    "dba_tab_privs_critical = dba_tab_privs_critical.fillna(value=\"-\")\n",
    "dba_role_tabprivs_critical = dba_role_tabprivs_critical.fillna(value=\"-\")\n",
    "dba_sys_privs_critical = dba_sys_privs_critical.fillna(value=\"-\")\n",
    "dba_role_sysprivs_critical = dba_role_sysprivs_critical.fillna(value=\"-\")\n",
    "dba_users = dba_users.fillna(value=\"-\")\n",
    "dba_profiles = dba_profiles.fillna(value=\"-\")"
   ]
  },
  {
   "cell_type": "code",
   "execution_count": 36,
   "metadata": {},
   "outputs": [],
   "source": [
    "dba_tab_privs_critical.to_csv('DBA_TAB_PRIVS_FINAL.csv')\n",
    "dba_role_tabprivs_critical.to_csv('DBA_ROLE_TABPRIVS_FINAL.csv')\n",
    "dba_sys_privs_critical.to_csv('DBA_SYS_PRIVS_FINAL.csv')\n",
    "dba_role_sysprivs_critical.to_csv('DBA_ROLE_SYSPRIVS_FINAL.csv')\n",
    "dba_users.to_csv('DBA_USERS_FINAL.csv')\n",
    "dba_profiles.to_csv('DBA_PROFILES_FINAL.csv')\n",
    "critical_profiles.to_csv('CRITICAL_USERS_PROFILES.csv')\n",
    "vparameter.to_csv('VPARAMETER_FINAL.csv')"
   ]
  },
  {
   "cell_type": "code",
   "execution_count": null,
   "metadata": {},
   "outputs": [],
   "source": []
  },
  {
   "cell_type": "code",
   "execution_count": null,
   "metadata": {},
   "outputs": [],
   "source": []
  }
 ],
 "metadata": {
  "kernelspec": {
   "display_name": "Python 3",
   "language": "python",
   "name": "python3"
  },
  "language_info": {
   "codemirror_mode": {
    "name": "ipython",
    "version": 3
   },
   "file_extension": ".py",
   "mimetype": "text/x-python",
   "name": "python",
   "nbconvert_exporter": "python",
   "pygments_lexer": "ipython3",
   "version": "3.8.8"
  }
 },
 "nbformat": 4,
 "nbformat_minor": 2
}
