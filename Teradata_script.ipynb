{
 "cells": [
  {
   "cell_type": "code",
   "execution_count": 1,
   "metadata": {},
   "outputs": [],
   "source": [
    "import numpy as np\n",
    "import pandas as pd\n",
    "import os\n",
    "import csv\n",
    "import zipfile\n",
    "import re"
   ]
  },
  {
   "cell_type": "code",
   "execution_count": 2,
   "metadata": {},
   "outputs": [],
   "source": [
    "output_dir = os.listdir(os.path.join(os.getcwd(),'Teradata_Outputs'))"
   ]
  },
  {
   "cell_type": "code",
   "execution_count": 3,
   "metadata": {},
   "outputs": [],
   "source": [
    "allrights = pd.read_csv(os.path.join(os.getcwd(),'Teradata_Outputs',output_dir[0]))\n",
    "allrolerights = pd.read_csv(os.path.join(os.getcwd(),'Teradata_Outputs',output_dir[1]))\n",
    "profiles = pd.read_excel(os.path.join(os.getcwd(),'Teradata_Outputs',output_dir[2]), engine='openpyxl')\n",
    "users = pd.read_csv(os.path.join(os.getcwd(),'Teradata_Outputs',output_dir[3]))\n",
    "teradata_tc = pd.read_excel('Teradata_TC.xlsx', engine='openpyxl')\n",
    "nomina = pd.read_excel('nomina.xlsx', engine='openpyxl')\n",
    "nomina['Nombre de usuario'] =  nomina['Nombre de usuario'].apply(lambda x: str(x).upper()).apply(lambda x: x.replace(\" \",\"\"))\n",
    "nomina_externos = pd.read_excel('nomina_externos.xlsx', engine='openpyxl')\n",
    "nomina_externos['NOMBRE_USUARIO'] = nomina_externos['NOMBRE_USUARIO'].apply(lambda x: str(x).upper()).apply(lambda x: x.replace(\" \",\"\"))\n",
    "nomina_externos.rename(columns={'DEPARTAMENTO':'Departamento_ext'}, inplace=True)"
   ]
  },
  {
   "cell_type": "code",
   "execution_count": 4,
   "metadata": {},
   "outputs": [],
   "source": [
    "allrights = allrights.applymap(lambda x: str(x).upper())\n",
    "allrights[['DatabaseName','TableName','AccessRight']] = allrights[['DatabaseName','TableName','AccessRight']].applymap(lambda x: x.replace(\" \",\"\"))\n",
    "allrolerights = allrolerights.applymap(lambda x: str(x).upper())\n",
    "allrolerights[['RoleName','DatabaseName','TableName','AccessRight']] = allrolerights[['RoleName','DatabaseName','TableName','AccessRight']].applymap(lambda x: str(x).upper()).applymap(lambda x: x.replace(\" \",\"\"))\n",
    "profiles[['ProfileNameI','ProfileName']] =  profiles[['ProfileNameI','ProfileName']].applymap(lambda x: str(x).upper()).applymap(lambda x: x.replace(\" \",\"\"))\n",
    "users[['USERNAME','CreatorName','OwnerName','RoleName','ProfileName']] = users[['USERNAME','CreatorName','OwnerName','RoleName','ProfileName']].applymap(lambda x: str(x).upper()).applymap(lambda x: x.replace(\" \",\"\"))\n",
    "teradata_tc = teradata_tc.applymap(lambda x: str(x).upper())"
   ]
  },
  {
   "cell_type": "code",
   "execution_count": 5,
   "metadata": {},
   "outputs": [],
   "source": [
    "allrights = allrights[allrights['UserName'] != allrights['DatabaseName']].reset_index(drop=True)"
   ]
  },
  {
   "cell_type": "code",
   "execution_count": 6,
   "metadata": {},
   "outputs": [],
   "source": [
    "mask_relevant_allrights = ((allrights['DatabaseName'] == 'DBC') | (allrights['DatabaseName'] == 'WHOWNER') | \\\n",
    "                          (allrights['DatabaseName'] == 'QUALES_PROD') | (allrights['DatabaseName'] == 'MSTR_TODATE')| \\\n",
    "                          #(allrights['DatabaseName'] == 'TEMP_45') | \\\n",
    "                          (allrights['DatabaseName'] == 'DW_WHOWNER_TBL')) &  ((allrights['AccessRight'] == 'D') | \\\n",
    "                            (allrights['AccessRight'] == 'U') | (allrights['AccessRight'] == 'DA') | \\\n",
    "                            (allrights['AccessRight'] == 'CA') | (allrights['AccessRight'] == 'I') | \\\n",
    "                            (allrights['AccessRight'] == 'DT') | (allrights['AccessRight'] == 'DU') | \\\n",
    "                            (allrights['AccessRight'] == 'CR') | (allrights['AccessRight'] == 'DR') | \\\n",
    "                            (allrights['AccessRight'] == 'DS') | (allrights['AccessRight'] == 'DD'))\n",
    "\n",
    "mask_relevant_allrolerights = ((allrolerights['DatabaseName'] == 'DBC')   | (allrolerights['DatabaseName'] == 'WHOWNER') | \\\n",
    "                              (allrolerights['DatabaseName'] == 'QUALES_PROD') | (allrolerights['DatabaseName'] == 'MSTR_TODATE')| \\\n",
    "                              #(allrolerights['DatabaseName'] == 'TEMP_45') | \\\n",
    "                              (allrolerights['DatabaseName'] == 'DW_WHOWNER_TBL')) &  ((allrolerights['AccessRight'] == 'D') | \\\n",
    "                                (allrolerights['AccessRight'] == 'U') | (allrolerights['AccessRight'] == 'DA') | \\\n",
    "                                (allrolerights['AccessRight'] == 'CA') | (allrolerights['AccessRight'] == 'I') | \\\n",
    "                                (allrolerights['AccessRight'] == 'DT') | (allrolerights['AccessRight'] == 'DU') | \\\n",
    "                                (allrolerights['AccessRight'] == 'CR') | (allrolerights['AccessRight'] == 'DR') | \\\n",
    "                                (allrolerights['AccessRight'] == 'DS') | (allrolerights['AccessRight'] == 'DD'))\n",
    "                            "
   ]
  },
  {
   "cell_type": "code",
   "execution_count": 7,
   "metadata": {},
   "outputs": [],
   "source": [
    "allrights = allrights[mask_relevant_allrights].reset_index(drop=True)\n",
    "allrolerights = allrolerights[mask_relevant_allrolerights].reset_index(drop=True)"
   ]
  },
  {
   "cell_type": "code",
   "execution_count": 8,
   "metadata": {},
   "outputs": [],
   "source": [
    "allrights = allrights.merge(teradata_tc['TABLE_NAME'], how='left', left_on='TableName', right_on='TABLE_NAME')\n",
    "allrights.rename(columns={'TABLE_NAME':'Tabla_Critica'}, inplace=True)\n",
    "allrolerights = allrolerights.merge(teradata_tc['TABLE_NAME'], how='left', left_on='TableName', right_on='TABLE_NAME')\n",
    "allrolerights.rename(columns={'TABLE_NAME':'Tabla_Critica'}, inplace=True)"
   ]
  },
  {
   "cell_type": "code",
   "execution_count": 9,
   "metadata": {},
   "outputs": [],
   "source": [
    "manual_tc = ['ALL', 'USERS', 'ALLRIGHTS', 'PROFILES']\n",
    "c1 = allrights['TableName'].str.match('|'.join(manual_tc))\n",
    "allrights['Tabla_Critica'][allrights['Tabla_Critica'].isnull()] = np.select([c1], [allrights['Tabla_Critica'].fillna(1)])\n",
    "allrights['Tabla_Critica'].loc[~allrights['Tabla_Critica'].isnull()] = 1\n",
    "allrights['Tabla_Critica'].loc[allrights['Tabla_Critica'].isnull()] = 0\n",
    "c2 = allrolerights['TableName'].str.match('|'.join(manual_tc))\n",
    "allrolerights['Tabla_Critica'][allrolerights['Tabla_Critica'].isnull()] = np.select([c2], [allrolerights['Tabla_Critica'].fillna(1)])\n",
    "allrolerights['Tabla_Critica'].loc[~allrolerights['Tabla_Critica'].isnull()] = 1\n",
    "allrolerights['Tabla_Critica'].loc[allrolerights['Tabla_Critica'].isnull()] = 0"
   ]
  },
  {
   "cell_type": "code",
   "execution_count": 10,
   "metadata": {},
   "outputs": [],
   "source": [
    "allrights['UserName_1'] = allrights['UserName'].apply(lambda x: x.replace(\"_DBA\", \"\"))\n",
    "allrights['UserName_1'] = allrights['UserName_1'].apply(lambda x: x.replace(\"MS_\", \"\"))"
   ]
  },
  {
   "cell_type": "code",
   "execution_count": 11,
   "metadata": {},
   "outputs": [],
   "source": [
    "allrights = allrights.merge(nomina[['Nombre de usuario', 'Departamento']], how='left', left_on='UserName_1', right_on='Nombre de usuario').drop('Nombre de usuario', axis=1)\n",
    "allrights = allrights.merge(nomina_externos[['NOMBRE_USUARIO', 'Departamento_ext']], how='left', left_on='UserName_1', right_on='NOMBRE_USUARIO').drop('NOMBRE_USUARIO', axis=1)"
   ]
  },
  {
   "cell_type": "code",
   "execution_count": 12,
   "metadata": {},
   "outputs": [],
   "source": [
    "ad_users = pd.read_csv('AD.csv',sep=',',low_memory=False)\n",
    "ad_users = ad_users[['Name', 'Disabled']].applymap(lambda x: str(x).upper()).applymap(lambda x: x.replace(\" \",\"\"))\n",
    "ad_users.rename(columns={'Disabled':'AD_Disabled'}, inplace=True)"
   ]
  },
  {
   "cell_type": "code",
   "execution_count": 13,
   "metadata": {},
   "outputs": [],
   "source": [
    "allrights = allrights.merge(ad_users, how='left', left_on='UserName_1', right_on='Name').drop('Name', axis=1)\n"
   ]
  },
  {
   "cell_type": "code",
   "execution_count": 14,
   "metadata": {},
   "outputs": [],
   "source": [
    "app_users = ['SYSLIB', 'FRAUD', 'APP_QUALES_PROD',\n",
    "       'SELL_TERADATA', 'ODS', 'APP_QUALES', 'APP_CDR_USER_BEHAVIORS',\n",
    "       'APP_PENTAHO_ETL', 'MSTRADMIN', 'APP_CBK_ANALYSIS', 'DBCMANAGER',\n",
    "       'APP_MERCHXPS', 'APP_GAIA_01', 'TABLEAU', 'TABLEAU_TBL',\n",
    "       'VIEWPOINT', 'APP_PENTAHO', 'MSTRADMIN_H',\n",
    "       'APP_BIWEB', 'APP_CREDITS_BACKEND', 'TDPUSER', 'SYSDBA',\n",
    "       'APP_CUST_FUNDATION', 'APP_CCNMP_PROD', 'MODELING',\n",
    "       'APP_OPERACIONESMP', 'APP_LOGISTICS_ENVIOS', 'SYSBACK',\n",
    "       'APP_MELI_LOADER', 'CONNECT_HADOOP', 'QUALES_PROD', 'APP_GAIA',\n",
    "       'APP_ANALYTICS', 'APP_MLD_FORECASTING', 'MELI', 'APP_ETL',\n",
    "       'ODS_TABLEAU', 'APPMIGRADORDESA', 'APP_STATS', 'BI', 'SYSTEMFE',\n",
    "       'APP_GENOVA', 'RESTOREAR', 'MELI_LIB',\n",
    "       'APP_FRAUD_MEJORA_CONTINUA', 'APP_CDG', 'MP3_WP', 'DBCMNGR',\n",
    "       'APP_QUALES_TEMP', 'APPMIGRADORFE', 'NWC', 'BACKUP', 'WH_TAXREP',\n",
    "       'SYSADMIN', 'APP_SM_MS', 'BARUSER1', 'APP_PYME_CBA_TERADATA',\n",
    "       'TABLEAU_RT', 'APP_LAG', 'SP_BI', 'ANALYTICS_DATA']\n",
    "schema_users = ['DBC', \"\"\"\"'TEMP_45'\"\"\", 'DW_WHOWNER_TBL', 'WHOWNER_TBL', 'MSTR_TODATE']\n",
    "public_users = ['PUBLIC']\n",
    "c3 = allrights['UserName_1'].str.match('|'.join(app_users))\n",
    "c4 = allrights['UserName_1'].str.match('|'.join(schema_users))\n",
    "c5 = allrights['UserName_1'].str.match('|'.join(public_users))\n",
    "allrights['Departamento'][allrights['Departamento'].isnull()] = np.select([c3,c4,c5], \n",
    "                                                                          [allrights['Departamento'].fillna('Usuario de aplicativo'),\n",
    "                                                                          allrights['Departamento'].fillna('Usuario de schema'),\n",
    "                                                                          allrights['Departamento'].fillna('Permisos publicos')])"
   ]
  },
  {
   "cell_type": "code",
   "execution_count": 15,
   "metadata": {},
   "outputs": [],
   "source": [
    "allrolerights = allrolerights[allrolerights['Tabla_Critica']==1]\n",
    "allrolerights[['RoleName', 'DatabaseName']].to_csv('relevant_roles.csv')\n",
    "#allrolerights = allrolerights[['RoleName', 'DatabaseName']].drop_duplicates().reset_index(drop=True)"
   ]
  },
  {
   "cell_type": "code",
   "execution_count": 16,
   "metadata": {},
   "outputs": [
    {
     "data": {
      "text/plain": [
       "Index(['RoleName', 'DatabaseName', 'TableName', 'ColumnName', 'AccessRight',\n",
       "       'GrantorName', 'CreateTimeStamp', 'Tabla_Critica'],\n",
       "      dtype='object')"
      ]
     },
     "execution_count": 16,
     "metadata": {},
     "output_type": "execute_result"
    }
   ],
   "source": [
    "allrolerights.columns"
   ]
  },
  {
   "cell_type": "code",
   "execution_count": 17,
   "metadata": {},
   "outputs": [
    {
     "data": {
      "text/plain": [
       "Index(['UserName', 'DatabaseName', 'TableName', 'AccessRight', 'Tabla_Critica',\n",
       "       'UserName_1', 'Departamento', 'Departamento_ext', 'AD_Disabled'],\n",
       "      dtype='object')"
      ]
     },
     "execution_count": 17,
     "metadata": {},
     "output_type": "execute_result"
    }
   ],
   "source": [
    "allrights.columns"
   ]
  },
  {
   "cell_type": "code",
   "execution_count": 18,
   "metadata": {},
   "outputs": [
    {
     "data": {
      "text/plain": [
       "Index(['USERNAME', 'CreatorName', 'PasswordLastModDate', 'PasswordLastModTime',\n",
       "       'OwnerName', 'DefaultDataBase', 'CommentString', 'LockedDate',\n",
       "       'LockedTime', 'LockedCount', 'RoleName', 'ProfileName',\n",
       "       'PasswordChgDate', 'CreateTimeStamp', 'LastAlterName',\n",
       "       'LastAlterTimeStamp'],\n",
       "      dtype='object')"
      ]
     },
     "execution_count": 18,
     "metadata": {},
     "output_type": "execute_result"
    }
   ],
   "source": [
    "users.columns"
   ]
  },
  {
   "cell_type": "code",
   "execution_count": 19,
   "metadata": {},
   "outputs": [],
   "source": [
    "allrolerights = allrolerights.merge(users[['USERNAME','RoleName']], how='left', on='RoleName', validate='many_to_many').drop_duplicates().reset_index(drop=True)"
   ]
  },
  {
   "cell_type": "code",
   "execution_count": 20,
   "metadata": {},
   "outputs": [
    {
     "data": {
      "text/plain": [
       "Index(['RoleName', 'DatabaseName', 'TableName', 'ColumnName', 'AccessRight',\n",
       "       'GrantorName', 'CreateTimeStamp', 'Tabla_Critica', 'USERNAME'],\n",
       "      dtype='object')"
      ]
     },
     "execution_count": 20,
     "metadata": {},
     "output_type": "execute_result"
    }
   ],
   "source": [
    "allrolerights.columns"
   ]
  },
  {
   "cell_type": "code",
   "execution_count": 21,
   "metadata": {},
   "outputs": [],
   "source": [
    "allrolerights = allrolerights.merge(allrights[['UserName','UserName_1','Departamento','Departamento_ext', 'AD_Disabled']], how='left', left_on='USERNAME', right_on='UserName').drop_duplicates().reset_index(drop=True)"
   ]
  },
  {
   "cell_type": "code",
   "execution_count": 22,
   "metadata": {},
   "outputs": [
    {
     "name": "stderr",
     "output_type": "stream",
     "text": [
      "<ipython-input-22-6316481d4ce6>:2: SettingWithCopyWarning: \n",
      "A value is trying to be set on a copy of a slice from a DataFrame\n",
      "\n",
      "See the caveats in the documentation: https://pandas.pydata.org/pandas-docs/stable/user_guide/indexing.html#returning-a-view-versus-a-copy\n",
      "  allrolerights['Comentario'][allrolerights['UserName'].isnull()] = 'Rol no asignado a usuarios'\n"
     ]
    }
   ],
   "source": [
    "allrolerights['Comentario'] = np.nan\n",
    "allrolerights['Comentario'][allrolerights['UserName'].isnull()] = 'Rol no asignado a usuarios'"
   ]
  },
  {
   "cell_type": "code",
   "execution_count": 23,
   "metadata": {},
   "outputs": [],
   "source": [
    "allrolerights.to_csv('roles-users.csv')"
   ]
  },
  {
   "cell_type": "code",
   "execution_count": 24,
   "metadata": {},
   "outputs": [],
   "source": [
    "relevant_users = allrights['UserName'].append(allrolerights['UserName']).drop_duplicates().reset_index(drop=True)\n",
    "relevant_users = pd.DataFrame(relevant_users)"
   ]
  },
  {
   "cell_type": "code",
   "execution_count": 25,
   "metadata": {},
   "outputs": [
    {
     "data": {
      "text/plain": [
       "Index(['UserName'], dtype='object')"
      ]
     },
     "execution_count": 25,
     "metadata": {},
     "output_type": "execute_result"
    }
   ],
   "source": [
    "relevant_users.columns"
   ]
  },
  {
   "cell_type": "code",
   "execution_count": 26,
   "metadata": {},
   "outputs": [],
   "source": [
    "relevant_profiles = relevant_users.merge(users[['USERNAME','ProfileName']], how='left', left_on='UserName', right_on='USERNAME').dropna(how='all')"
   ]
  },
  {
   "cell_type": "code",
   "execution_count": 27,
   "metadata": {},
   "outputs": [],
   "source": [
    "relevant_profiles.to_csv('users-profiles_relevant.csv')"
   ]
  },
  {
   "cell_type": "code",
   "execution_count": 28,
   "metadata": {},
   "outputs": [],
   "source": [
    "relevant_profiles = relevant_profiles['ProfileName'].dropna().drop_duplicates().reset_index(drop=True)\n",
    "relevant_profiles.to_csv('relevant_profiles.csv')"
   ]
  }
 ],
 "metadata": {
  "kernelspec": {
   "display_name": "Python 3",
   "language": "python",
   "name": "python3"
  },
  "language_info": {
   "codemirror_mode": {
    "name": "ipython",
    "version": 3
   },
   "file_extension": ".py",
   "mimetype": "text/x-python",
   "name": "python",
   "nbconvert_exporter": "python",
   "pygments_lexer": "ipython3",
   "version": "3.8.8"
  }
 },
 "nbformat": 4,
 "nbformat_minor": 4
}
