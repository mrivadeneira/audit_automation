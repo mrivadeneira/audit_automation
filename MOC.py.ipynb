{
 "cells": [
  {
   "cell_type": "code",
   "execution_count": 1,
   "metadata": {},
   "outputs": [],
   "source": [
    "import numpy as np\n",
    "import pandas as pd\n",
    "import os\n",
    "import re\n",
    "import sys\n",
    "from io import StringIO\n",
    "import itertools\n",
    "from unicodedata import normalize\n",
    "import datetime\n",
    "from openpyxl import load_workbook"
   ]
  },
  {
   "cell_type": "code",
   "execution_count": 6,
   "metadata": {},
   "outputs": [],
   "source": [
    "src_dir = os.path.join(os.getcwd(),'SAP Input files')\n",
    "input_file_dir = os.path.join(src_dir,'Original')\n",
    "#clean_file_dir = os.path.join(src_dir,'Formatted')\n",
    "if not os.path.exists(os.path.join(src_dir,'Formatted')):\n",
    "    os.makedirs(os.path.join(src_dir,'Formatted'))\n",
    "clean_file_dir = os.path.join(src_dir,'Formatted')\n",
    "# usr02_columns=['Unnamed: 0', ' ', 'MANDT', 'BNAME       ', 'BCODE           ',\n",
    "#        'GLTGV     ', 'GLTGB     ', 'USTYP', 'CLASS         ', 'LOCNT', 'UFLAG',\n",
    "#        'ACCNT       ', 'ANAME       ', 'ERDAT     ', 'TRDAT     ', 'LTIME   ',\n",
    "#        'OCOD1           ', 'BCDA1     ', 'CODV1', 'OCOD2           ',\n",
    "#        'BCDA2     ', 'CODV2', 'OCOD3           ', 'BCDA3     ', 'CODV3',\n",
    "#        'OCOD4           ', 'BCDA4     ', 'CODV4', 'OCOD5           ',\n",
    "#        'BCDA5     ', 'CODV5', 'VERSN', 'CODVN', 'TZONE   ', 'ZBVMASTER',\n",
    "#        'PASSCODE                                ', 'PWDCHGDATE', 'PWDSTATE',\n",
    "#        'RESERVED', 'PWDHISTORY', 'PWDLGNDATE', 'PWDSETDATE', 'PWDINITIAL',\n",
    "#        'PWDLOCKDATE',\n",
    "#        'PWDSALTEDHASH                                                                                                                                                                                                                                                  ',\n",
    "#        'SECURITY_POLICY                           ', 'Unnamed: 46']\n",
    "# agr_1251_columns=['Unnamed: 0', ' ', 'MANDT', 'AGR_NAME                        ',\n",
    "#        'COUNTER', 'OBJECT    ', 'AUTH        ', 'VARIANT', 'FIELD     ',\n",
    "#        'LOW                                     ',\n",
    "#        'HIGH                                    ', 'MODIFIED', 'DELETED',\n",
    "#        'COPIED', 'NEU', 'NODE  ', 'Unnamed: 16']\n",
    "\n",
    "# agr_users_columns = ['Unnamed: 0', ' ', 'MANDT', 'AGR_NAME                        ',\n",
    "#        'UNAME         ', 'FROM_DAT  ', 'TO_DAT    ', 'EXCLUDE', 'CHANGE_DAT',\n",
    "#        'CHANGE_TIM', 'CHANGE_TST         ', 'ORG_FLAG', 'COL_FLAG',\n",
    "#        'Unnamed: 13']\n",
    "# agr_agrs_columns = ['Unnamed: 0', ' ', 'MANDT', 'AGR_NAME                        ',\n",
    "#        'CHILD_AGR                       ', 'ATTRIBUTES', 'Unnamed: 6']\n",
    "# usr02 = pd.DataFrame(columns=usr02_columns)\n",
    "# agr_1251 = pd.DataFrame(columns=agr_1251_columns)\n",
    "# agr_users = pd.DataFrame(columns=agr_users_columns)\n",
    "# agr_agrs = pd.DataFrame(columns=agr_agrs_columns)"
   ]
  },
  {
   "cell_type": "code",
   "execution_count": 7,
   "metadata": {},
   "outputs": [],
   "source": [
    "# usr02_columns=['Unnamed:0','','MANDT','BNAME','BCODE',\n",
    "# 'GLTGV','GLTGB','USTYP','CLASS','LOCNT','UFLAG',\n",
    "# 'ACCNT','ANAME','ERDAT','TRDAT','LTIME',\n",
    "# 'OCOD1','BCDA1','CODV1','OCOD2',\n",
    "# 'BCDA2','CODV2','OCOD3','BCDA3','CODV3',\n",
    "# 'OCOD4','BCDA4','CODV4','OCOD5',\n",
    "# 'BCDA5','CODV5','VERSN','CODVN','TZONE','ZBVMASTER',\n",
    "# 'PASSCODE','PWDCHGDATE','PWDSTATE',\n",
    "# 'RESERVED','PWDHISTORY','PWDLGNDATE','PWDSETDATE','PWDINITIAL',\n",
    "# 'PWDLOCKDATE',\n",
    "# 'PWDSALTEDHASH',\n",
    "# 'SECURITY_POLICY','Unnamed:46']\n",
    "\n",
    "# agr_1251_columns=['Unnamed:0','','MANDT','AGR_NAME',\n",
    "# 'COUNTER','OBJECT','AUTH','VARIANT','FIELD',\n",
    "# 'LOW',\n",
    "# 'HIGH','MODIFIED','DELETED',\n",
    "# 'COPIED','NEU','NODE','Unnamed:16']\n",
    "\n",
    "# agr_users_columns=['Unnamed:0','','MANDT','AGR_NAME',\n",
    "# 'UNAME','FROM_DAT','TO_DAT','EXCLUDE','CHANGE_DAT',\n",
    "# 'CHANGE_TIM','CHANGE_TST','ORG_FLAG','COL_FLAG',\n",
    "# 'Unnamed:13']\n",
    "# agr_agrs_columns=['Unnamed:0','','MANDT','AGR_NAME',\n",
    "# 'CHILD_AGR','ATTRIBUTES','Unnamed:6']\n",
    "# usr02 = pd.DataFrame(columns=usr02_columns)\n",
    "# agr_1251 = pd.DataFrame(columns=agr_1251_columns)\n",
    "# agr_users = pd.DataFrame(columns=agr_users_columns)\n",
    "# agr_agrs = pd.DataFrame(columns=agr_agrs_columns)"
   ]
  },
  {
   "cell_type": "code",
   "execution_count": 8,
   "metadata": {},
   "outputs": [],
   "source": [
    "usr02 = pd.DataFrame()\n",
    "agr_1251 = pd.DataFrame()\n",
    "agr_users = pd.DataFrame()\n",
    "agr_agrs = pd.DataFrame()"
   ]
  },
  {
   "cell_type": "code",
   "execution_count": 9,
   "metadata": {},
   "outputs": [],
   "source": [
    "for i in os.listdir(input_file_dir):\n",
    "    a_file = open(os.path.join(input_file_dir,i), 'r')\n",
    "    lines = a_file.readlines()\n",
    "    a_file.close()\n",
    "#     lines = lines[3:-1]\n",
    "    del lines[0]\n",
    "    del lines[1]\n",
    "    del lines[-1]\n",
    "    \n",
    "    new_file = open(os.path.join(clean_file_dir,i), 'w')\n",
    "    for line in lines:\n",
    "        new_file.write(line)\n",
    "    new_file.close()"
   ]
  },
  {
   "cell_type": "code",
   "execution_count": 10,
   "metadata": {},
   "outputs": [
    {
     "name": "stdout",
     "output_type": "stream",
     "text": [
      "OK\n",
      "OK\n",
      "OK\n",
      "OK\n"
     ]
    }
   ],
   "source": [
    "dfs = [agr_1251, agr_agrs, agr_users, usr02]\n",
    "for i,df in zip(os.listdir(clean_file_dir),dfs):\n",
    "    old_stderr = sys.stderr\n",
    "    result = StringIO()\n",
    "    sys.stderr = result\n",
    "    data = pd.read_csv(os.path.join(clean_file_dir,i), sep='|', error_bad_lines=False, encoding='latin-1')\n",
    "    df = pd.concat([df,data], ignore_index=True)\n",
    "    sys.stderr = old_stderr\n",
    "    result_string = result.getvalue()\n",
    "    with open(os.path.join(i+'_bad_lines.txt'), 'w') as bad_lines:\n",
    "        for line in result_string.split(r'\\n'):\n",
    "            bad_lines.write(line)\n",
    "            bad_lines.write('\\n')\n",
    "    print('OK')"
   ]
  },
  {
   "cell_type": "code",
   "execution_count": 11,
   "metadata": {},
   "outputs": [
    {
     "name": "stderr",
     "output_type": "stream",
     "text": [
      "b'Skipping line 43211: expected 16 fields, saw 17\\n'\n",
      "b'Skipping line 81121: expected 16 fields, saw 17\\nSkipping line 81140: expected 16 fields, saw 17\\nSkipping line 81268: expected 16 fields, saw 17\\nSkipping line 83139: expected 16 fields, saw 17\\nSkipping line 83272: expected 16 fields, saw 17\\nSkipping line 84374: expected 16 fields, saw 17\\n'\n",
      "b'Skipping line 164259: expected 16 fields, saw 17\\nSkipping line 165687: expected 16 fields, saw 17\\nSkipping line 166995: expected 16 fields, saw 17\\n'\n"
     ]
    }
   ],
   "source": [
    "usr02 = usr02.append(pd.read_csv(os.path.join(clean_file_dir,'USR02.txt'), dtype='str', sep='|', error_bad_lines=False, encoding='latin-1'))\n",
    "agr_1251 = agr_1251.append(pd.read_csv(os.path.join(clean_file_dir,'AGR_1251.txt'), dtype='str', sep='|', error_bad_lines=False, encoding='latin-1'))\n",
    "agr_users = agr_users.append(pd.read_csv(os.path.join(clean_file_dir,'AGR_USERS.txt'), dtype='str', sep='|', error_bad_lines=False, encoding='latin-1'))\n",
    "agr_agrs = agr_agrs.append(pd.read_csv(os.path.join(clean_file_dir,'AGR_AGRS.txt'), dtype='str', sep='|', error_bad_lines=False, encoding='latin-1'))"
   ]
  },
  {
   "cell_type": "code",
   "execution_count": 12,
   "metadata": {},
   "outputs": [],
   "source": [
    "usr02.columns = [c.strip(' ') for c in usr02.columns]\n",
    "agr_1251.columns = [c.strip(' ') for c in agr_1251.columns]\n",
    "agr_users.columns = [c.strip(' ') for c in agr_users.columns]\n",
    "agr_agrs.columns = [c.strip(' ') for c in agr_agrs.columns]"
   ]
  },
  {
   "cell_type": "code",
   "execution_count": 13,
   "metadata": {},
   "outputs": [
    {
     "data": {
      "text/html": [
       "<div>\n",
       "<style scoped>\n",
       "    .dataframe tbody tr th:only-of-type {\n",
       "        vertical-align: middle;\n",
       "    }\n",
       "\n",
       "    .dataframe tbody tr th {\n",
       "        vertical-align: top;\n",
       "    }\n",
       "\n",
       "    .dataframe thead th {\n",
       "        text-align: right;\n",
       "    }\n",
       "</style>\n",
       "<table border=\"1\" class=\"dataframe\">\n",
       "  <thead>\n",
       "    <tr style=\"text-align: right;\">\n",
       "      <th></th>\n",
       "      <th>Unnamed: 0</th>\n",
       "      <th>Md.</th>\n",
       "      <th>Usuario</th>\n",
       "      <th>Clave</th>\n",
       "      <th>Válido de</th>\n",
       "      <th>Fin valid.</th>\n",
       "      <th>Tipo usuario</th>\n",
       "      <th>Actualización de maestro de usuarios: Gr</th>\n",
       "      <th>Ctd.intentos acceso sist.fallidos</th>\n",
       "      <th>Bloqueo</th>\n",
       "      <th>...</th>\n",
       "      <th>Modelo usuario GCU</th>\n",
       "      <th>Val.control clave acceso (SHA1, 160 bit)</th>\n",
       "      <th>Fecha últ.modificación clave acceso.5</th>\n",
       "      <th>Status modif.clave acceso</th>\n",
       "      <th>Información control GCU</th>\n",
       "      <th>Historial clv.acc.externo(USRPWDHISTORY)</th>\n",
       "      <th>Fecha última entr.sist.clave acceso</th>\n",
       "      <th>Fe.: Clave acc.fijada de nuevo por adm.</th>\n",
       "      <th>Indicador: Clave acceso es inicial</th>\n",
       "      <th>Unnamed: 42</th>\n",
       "    </tr>\n",
       "  </thead>\n",
       "  <tbody>\n",
       "    <tr>\n",
       "      <th>0</th>\n",
       "      <td>----------------------------------------------...</td>\n",
       "      <td>NaN</td>\n",
       "      <td>NaN</td>\n",
       "      <td>NaN</td>\n",
       "      <td>NaN</td>\n",
       "      <td>NaN</td>\n",
       "      <td>NaN</td>\n",
       "      <td>NaN</td>\n",
       "      <td>NaN</td>\n",
       "      <td>NaN</td>\n",
       "      <td>...</td>\n",
       "      <td>NaN</td>\n",
       "      <td>NaN</td>\n",
       "      <td>NaN</td>\n",
       "      <td>NaN</td>\n",
       "      <td>NaN</td>\n",
       "      <td>NaN</td>\n",
       "      <td>NaN</td>\n",
       "      <td>NaN</td>\n",
       "      <td>NaN</td>\n",
       "      <td>NaN</td>\n",
       "    </tr>\n",
       "    <tr>\n",
       "      <th>1</th>\n",
       "      <td>NaN</td>\n",
       "      <td>400</td>\n",
       "      <td>6000001185</td>\n",
       "      <td>0000000000000000</td>\n",
       "      <td></td>\n",
       "      <td>2018-06-29</td>\n",
       "      <td>A</td>\n",
       "      <td>GENERICOS</td>\n",
       "      <td>0</td>\n",
       "      <td>64</td>\n",
       "      <td>...</td>\n",
       "      <td></td>\n",
       "      <td>0000000000000000000000000000000000000000</td>\n",
       "      <td>2018-06-29</td>\n",
       "      <td>0</td>\n",
       "      <td>0</td>\n",
       "      <td>1</td>\n",
       "      <td></td>\n",
       "      <td>2018-06-29</td>\n",
       "      <td>1</td>\n",
       "      <td>NaN</td>\n",
       "    </tr>\n",
       "    <tr>\n",
       "      <th>2</th>\n",
       "      <td></td>\n",
       "      <td>{x-issha, 1024}bf+Mlh5TNjUy0s5r1nlrxO0ztAxCDUn...</td>\n",
       "      <td></td>\n",
       "      <td>NaN</td>\n",
       "      <td>NaN</td>\n",
       "      <td>NaN</td>\n",
       "      <td>NaN</td>\n",
       "      <td>NaN</td>\n",
       "      <td>NaN</td>\n",
       "      <td>NaN</td>\n",
       "      <td>...</td>\n",
       "      <td>NaN</td>\n",
       "      <td>NaN</td>\n",
       "      <td>NaN</td>\n",
       "      <td>NaN</td>\n",
       "      <td>NaN</td>\n",
       "      <td>NaN</td>\n",
       "      <td>NaN</td>\n",
       "      <td>NaN</td>\n",
       "      <td>NaN</td>\n",
       "      <td>NaN</td>\n",
       "    </tr>\n",
       "    <tr>\n",
       "      <th>3</th>\n",
       "      <td>NaN</td>\n",
       "      <td>400</td>\n",
       "      <td>AABBAS</td>\n",
       "      <td>0000000000000000</td>\n",
       "      <td></td>\n",
       "      <td>2020-09-17</td>\n",
       "      <td>C</td>\n",
       "      <td>PORTALHR</td>\n",
       "      <td>0</td>\n",
       "      <td>64</td>\n",
       "      <td>...</td>\n",
       "      <td></td>\n",
       "      <td>0000000000000000000000000000000000000000</td>\n",
       "      <td>2020-02-25</td>\n",
       "      <td>255</td>\n",
       "      <td>0</td>\n",
       "      <td>1</td>\n",
       "      <td></td>\n",
       "      <td>2020-02-25</td>\n",
       "      <td>2</td>\n",
       "      <td>NaN</td>\n",
       "    </tr>\n",
       "    <tr>\n",
       "      <th>4</th>\n",
       "      <td></td>\n",
       "      <td>{x-issha, 1024}CDMYMsbGFKNRM3BOl1qgfLBdCBudoOH...</td>\n",
       "      <td></td>\n",
       "      <td>NaN</td>\n",
       "      <td>NaN</td>\n",
       "      <td>NaN</td>\n",
       "      <td>NaN</td>\n",
       "      <td>NaN</td>\n",
       "      <td>NaN</td>\n",
       "      <td>NaN</td>\n",
       "      <td>...</td>\n",
       "      <td>NaN</td>\n",
       "      <td>NaN</td>\n",
       "      <td>NaN</td>\n",
       "      <td>NaN</td>\n",
       "      <td>NaN</td>\n",
       "      <td>NaN</td>\n",
       "      <td>NaN</td>\n",
       "      <td>NaN</td>\n",
       "      <td>NaN</td>\n",
       "      <td>NaN</td>\n",
       "    </tr>\n",
       "  </tbody>\n",
       "</table>\n",
       "<p>5 rows × 43 columns</p>\n",
       "</div>"
      ],
      "text/plain": [
       "                                          Unnamed: 0  \\\n",
       "0  ----------------------------------------------...   \n",
       "1                                                NaN   \n",
       "2                                                      \n",
       "3                                                NaN   \n",
       "4                                                      \n",
       "\n",
       "                                                 Md.       Usuario  \\\n",
       "0                                                NaN           NaN   \n",
       "1                                                400  6000001185     \n",
       "2  {x-issha, 1024}bf+Mlh5TNjUy0s5r1nlrxO0ztAxCDUn...                 \n",
       "3                                                400  AABBAS         \n",
       "4  {x-issha, 1024}CDMYMsbGFKNRM3BOl1qgfLBdCBudoOH...                 \n",
       "\n",
       "              Clave   Válido de  Fin valid.  Tipo usuario  \\\n",
       "0               NaN         NaN         NaN           NaN   \n",
       "1  0000000000000000              2018-06-29  A              \n",
       "2               NaN         NaN         NaN           NaN   \n",
       "3  0000000000000000              2020-09-17  C              \n",
       "4               NaN         NaN         NaN           NaN   \n",
       "\n",
       "   Actualización de maestro de usuarios: Gr  \\\n",
       "0                                       NaN   \n",
       "1  GENERICOS                                  \n",
       "2                                       NaN   \n",
       "3  PORTALHR                                   \n",
       "4                                       NaN   \n",
       "\n",
       "   Ctd.intentos acceso sist.fallidos  Bloqueo  ...  Modelo usuario GCU  \\\n",
       "0                                NaN      NaN  ...                 NaN   \n",
       "1                                 0       64   ...                       \n",
       "2                                NaN      NaN  ...                 NaN   \n",
       "3                                 0       64   ...                       \n",
       "4                                NaN      NaN  ...                 NaN   \n",
       "\n",
       "   Val.control clave acceso (SHA1, 160 bit)  \\\n",
       "0                                       NaN   \n",
       "1  0000000000000000000000000000000000000000   \n",
       "2                                       NaN   \n",
       "3  0000000000000000000000000000000000000000   \n",
       "4                                       NaN   \n",
       "\n",
       "  Fecha últ.modificación clave acceso.5  Status modif.clave acceso  \\\n",
       "0                                   NaN                        NaN   \n",
       "1   2018-06-29                                                  0    \n",
       "2                                   NaN                        NaN   \n",
       "3   2020-02-25                                                255    \n",
       "4                                   NaN                        NaN   \n",
       "\n",
       "   Información control GCU  Historial clv.acc.externo(USRPWDHISTORY)  \\\n",
       "0                      NaN                                       NaN   \n",
       "1                       0                                         1    \n",
       "2                      NaN                                       NaN   \n",
       "3                       0                                         1    \n",
       "4                      NaN                                       NaN   \n",
       "\n",
       "   Fecha última entr.sist.clave acceso  \\\n",
       "0                                  NaN   \n",
       "1                                        \n",
       "2                                  NaN   \n",
       "3                                        \n",
       "4                                  NaN   \n",
       "\n",
       "   Fe.: Clave acc.fijada de nuevo por adm.  \\\n",
       "0                                      NaN   \n",
       "1  2018-06-29                                \n",
       "2                                      NaN   \n",
       "3  2020-02-25                                \n",
       "4                                      NaN   \n",
       "\n",
       "   Indicador: Clave acceso es inicial Unnamed: 42  \n",
       "0                                 NaN         NaN  \n",
       "1                                  1          NaN  \n",
       "2                                 NaN         NaN  \n",
       "3                                  2          NaN  \n",
       "4                                 NaN         NaN  \n",
       "\n",
       "[5 rows x 43 columns]"
      ]
     },
     "execution_count": 13,
     "metadata": {},
     "output_type": "execute_result"
    }
   ],
   "source": [
    "usr02.head()"
   ]
  },
  {
   "cell_type": "code",
   "execution_count": null,
   "metadata": {},
   "outputs": [],
   "source": [
    "agr_1251.head()"
   ]
  },
  {
   "cell_type": "code",
   "execution_count": null,
   "metadata": {},
   "outputs": [],
   "source": [
    "agr_users.head()"
   ]
  },
  {
   "cell_type": "code",
   "execution_count": null,
   "metadata": {},
   "outputs": [],
   "source": [
    "agr_agrs.head()"
   ]
  },
  {
   "cell_type": "code",
   "execution_count": null,
   "metadata": {},
   "outputs": [],
   "source": [
    "log = open(os.path.join(os.getcwd(),'log.txt'), 'w')\n",
    "log.writelines(['usr02 rows/columns: ', str(usr02.shape), '\\n',\n",
    "               'agr_1251 rows/columns: ',str(agr_1251.shape), '\\n',\n",
    "               'agr_users rows/columns: ', str(agr_users.shape)])\n",
    "log.close()"
   ]
  },
  {
   "cell_type": "code",
   "execution_count": null,
   "metadata": {},
   "outputs": [],
   "source": [
    "agr_1251 = agr_1251[['AGR_NAME','OBJECT', 'FIELD', 'LOW', 'HIGH', 'DELETED']]\n",
    "agr_1251 = agr_1251.applymap(lambda x: str(x).strip()).applymap(lambda x: str(x).upper())\n",
    "agr_1251 = agr_1251[agr_1251['DELETED'] != 'X'].reset_index(drop=True)\n",
    "agr_users = agr_users[['AGR_NAME', 'UNAME', 'FROM_DAT', 'TO_DAT']]\n",
    "agr_users = agr_users.applymap(lambda x: str(x).strip())\n",
    "agr_users[['AGR_NAME', 'UNAME']] = agr_users[['AGR_NAME', 'UNAME']].applymap(lambda x: str(x).upper())\n",
    "usr02 = usr02[['BNAME','GLTGB', 'USTYP','CLASS', 'UFLAG', 'ANAME', 'ERDAT', 'TRDAT']]\n",
    "usr02[['BNAME','GLTGB', 'USTYP','CLASS', 'ANAME', 'ERDAT', 'TRDAT']] = usr02[['BNAME','GLTGB', 'USTYP','CLASS', 'ANAME', 'ERDAT', 'TRDAT']].applymap(lambda x: str(x).strip())\n",
    "usr02[['BNAME','GLTGB', 'USTYP','CLASS', 'ANAME']] = usr02[['BNAME','GLTGB', 'USTYP','CLASS', 'ANAME']].applymap(lambda x: str(x).upper())"
   ]
  },
  {
   "cell_type": "code",
   "execution_count": null,
   "metadata": {},
   "outputs": [],
   "source": [
    "# usr02 = usr02[usr02['GLTGB'] != '00.00.0000'].reset_index(drop=True)"
   ]
  },
  {
   "cell_type": "code",
   "execution_count": null,
   "metadata": {},
   "outputs": [],
   "source": [
    "usr02['UFLAG'].value_counts()"
   ]
  },
  {
   "cell_type": "code",
   "execution_count": null,
   "metadata": {},
   "outputs": [],
   "source": [
    "usr02[usr02['UFLAG'].isnull()]"
   ]
  },
  {
   "cell_type": "code",
   "execution_count": null,
   "metadata": {},
   "outputs": [],
   "source": [
    "usr02['UFLAG'] = usr02['UFLAG'].astype(int)\n",
    "usr02['GLTGB'] = usr02['GLTGB'].apply(lambda x: re.sub('[-.:]', '/', x))\n",
    "usr02['GLTGB'] = pd.to_datetime(usr02['GLTGB'], format='%d/%m/%Y', errors = 'coerce').apply(lambda x: x.date())"
   ]
  },
  {
   "cell_type": "code",
   "execution_count": null,
   "metadata": {},
   "outputs": [],
   "source": [
    "date_file = open(os.path.join(os.getcwd(),'Insert_period.txt'), 'r')\n",
    "lines = date_file.readlines()\n",
    "date_file.close()\n",
    "start_date = lines[1].replace('\\n', '')\n",
    "start_date = pd.to_datetime(start_date).date()\n",
    "end_date = lines[3].replace('\\n', '')\n",
    "end_date = pd.to_datetime(end_date).date()"
   ]
  },
  {
   "cell_type": "code",
   "execution_count": null,
   "metadata": {},
   "outputs": [],
   "source": [
    "mask_usr02 = (((usr02['USTYP'] == 'A') | (usr02['USTYP'] == 'S')) & ((usr02['UFLAG'] == 0) | (usr02['UFLAG'] == 128)) & ((usr02['GLTGB'] >= start_date) | (usr02['GLTGB'].isnull())))"
   ]
  },
  {
   "cell_type": "code",
   "execution_count": null,
   "metadata": {},
   "outputs": [],
   "source": [
    "usr02 = usr02[mask_usr02].reset_index(drop=True)"
   ]
  },
  {
   "cell_type": "code",
   "execution_count": null,
   "metadata": {},
   "outputs": [],
   "source": [
    "agr_usr02 = pd.merge(usr02,agr_users , how='left', left_on='BNAME', right_on='UNAME', validate='many_to_many').drop('UNAME', axis=1)\n",
    "agr_usr02 = agr_usr02.drop_duplicates().reset_index(drop=True)"
   ]
  },
  {
   "cell_type": "code",
   "execution_count": null,
   "metadata": {},
   "outputs": [],
   "source": [
    "rules_grc = pd.read_excel('SA_rules.xlsx')"
   ]
  },
  {
   "cell_type": "code",
   "execution_count": null,
   "metadata": {},
   "outputs": [],
   "source": [
    "rules_grc.columns = [re.sub(\n",
    "        r\"([^n\\u0300-\\u036f]|n(?!\\u0303(?![\\u0300-\\u036f])))[\\u0300-\\u036f]+\", r\"\\1\", \n",
    "        normalize( \"NFD\", r), 0, re.I) for r in rules_grc.columns]\n",
    "rules_grc.columns = [r.strip(' ').upper() for r in rules_grc.columns]"
   ]
  },
  {
   "cell_type": "code",
   "execution_count": null,
   "metadata": {},
   "outputs": [],
   "source": [
    "rules_grc.columns"
   ]
  },
  {
   "cell_type": "code",
   "execution_count": null,
   "metadata": {},
   "outputs": [],
   "source": [
    "scope_tcodes = pd.read_excel('SAP Input Files/DTT_relevant_tcodes.xlsx')\n",
    "scope_tcodes['Technical_Name'] = scope_tcodes['Technical_Name'].apply(lambda x: str(x).upper()).apply(lambda x: x.replace(\" \",\"\"))\n",
    "scope_tcodes_list = list(scope_tcodes['Technical_Name'])"
   ]
  },
  {
   "cell_type": "code",
   "execution_count": null,
   "metadata": {},
   "outputs": [],
   "source": [
    "relevant_rules_grc = pd.DataFrame(columns = rules_grc.columns)\n",
    "for tcode in scope_tcodes_list:\n",
    "    mask = rules_grc[rules_grc['ACCION'] == tcode]\n",
    "    relevant_rules_grc = pd.concat([relevant_rules_grc,mask])"
   ]
  },
  {
   "cell_type": "code",
   "execution_count": null,
   "metadata": {},
   "outputs": [],
   "source": [
    "in_grc = list(relevant_rules_grc['ACCION'].unique())\n",
    "out_grc = list(set(scope_tcodes_list) - set(in_grc))"
   ]
  },
  {
   "cell_type": "code",
   "execution_count": null,
   "metadata": {},
   "outputs": [],
   "source": [
    "mask_high_value = ((agr_1251['HIGH'] != '') & (agr_1251['LOW'] != agr_1251['HIGH']) & ((agr_1251['OBJECT'] == 'S_TCODE') | \\\n",
    "                                            (agr_1251['OBJECT'] == 'F_BKPF_KOA') | (agr_1251['OBJECT'] == 'F_BKPF_BUK') | \\\n",
    "                                            (agr_1251['OBJECT'] == 'S_PROGRAM') | (agr_1251['OBJECT'] == 'F_KKKO_BUK') | \\\n",
    "                                            (agr_1251['OBJECT'] == 'F_ACE_PST')))"
   ]
  },
  {
   "cell_type": "code",
   "execution_count": null,
   "metadata": {},
   "outputs": [],
   "source": [
    "agr_1251[mask_high_value].to_csv('AGR_1251_HIGHVALUES.csv')"
   ]
  },
  {
   "cell_type": "code",
   "execution_count": null,
   "metadata": {},
   "outputs": [],
   "source": [
    "mask_low_value = ((agr_1251['HIGH'] == '') & (agr_1251['LOW'] != agr_1251['HIGH']) & ((agr_1251['OBJECT'] == 'S_TCODE') | \\\n",
    "                                            (agr_1251['OBJECT'] == 'F_BKPF_KOA') | (agr_1251['OBJECT'] == 'F_BKPF_BUK') | \\\n",
    "                                            (agr_1251['OBJECT'] == 'S_PROGRAM') | (agr_1251['OBJECT'] == 'F_KKKO_BUK') | \\\n",
    "                                            (agr_1251['OBJECT'] == 'F_ACE_PST')))"
   ]
  },
  {
   "cell_type": "code",
   "execution_count": null,
   "metadata": {},
   "outputs": [],
   "source": [
    "agr_1251 = agr_1251[mask_low_value]"
   ]
  },
  {
   "cell_type": "code",
   "execution_count": null,
   "metadata": {},
   "outputs": [],
   "source": [
    "agr_tcodes = agr_1251['LOW'][agr_1251['FIELD'] == 'TCD'].unique()"
   ]
  },
  {
   "cell_type": "code",
   "execution_count": null,
   "metadata": {},
   "outputs": [],
   "source": [
    "tcodes_not_found = np.setdiff1d(out_grc,agr_tcodes).tolist()\n",
    "out_grc = list(set(out_grc) - set(tcodes_not_found))\n",
    "out_grc.sort()\n",
    "tcodes_not_found = pd.Series(tcodes_not_found)"
   ]
  },
  {
   "cell_type": "code",
   "execution_count": null,
   "metadata": {},
   "outputs": [],
   "source": [
    "tcodes_not_found.to_csv('TCODES_not_assigned.csv', header=False)"
   ]
  },
  {
   "cell_type": "code",
   "execution_count": null,
   "metadata": {},
   "outputs": [],
   "source": [
    "object_values = ['01','02','06','10','77','S','SUBMIT','F_001','F_002']"
   ]
  },
  {
   "cell_type": "code",
   "execution_count": null,
   "metadata": {},
   "outputs": [],
   "source": [
    "low = out_grc + object_values"
   ]
  },
  {
   "cell_type": "code",
   "execution_count": null,
   "metadata": {},
   "outputs": [],
   "source": [
    "agr_1251_relevant = pd.DataFrame(columns=agr_1251.columns)\n",
    "for l in low:\n",
    "    mask = agr_1251[agr_1251['LOW'] == l]\n",
    "    agr_1251_relevant = pd.concat([agr_1251_relevant,mask],ignore_index=True)"
   ]
  },
  {
   "cell_type": "code",
   "execution_count": null,
   "metadata": {},
   "outputs": [],
   "source": [
    "agr_1251_relevant['OBJECT_LOW'] = agr_1251_relevant['OBJECT'] + \"_\" + agr_1251_relevant['FIELD'] + \"_\" + agr_1251_relevant['LOW']"
   ]
  },
  {
   "cell_type": "code",
   "execution_count": null,
   "metadata": {},
   "outputs": [],
   "source": [
    "agr_1251_relevant = agr_1251_relevant.set_index('AGR_NAME')['OBJECT_LOW'].str.get_dummies().max(level=0).reset_index()"
   ]
  },
  {
   "cell_type": "code",
   "execution_count": null,
   "metadata": {},
   "outputs": [],
   "source": [
    "agr_usr02 = pd.merge(agr_usr02[['BNAME','AGR_NAME']], agr_1251_relevant, how='left', on='AGR_NAME', validate='many_to_many').drop_duplicates().reset_index(drop=True)"
   ]
  },
  {
   "cell_type": "code",
   "execution_count": null,
   "metadata": {},
   "outputs": [],
   "source": [
    "agr_usr02 = agr_usr02.loc[:,agr_usr02.columns!='AGR_NAME']\n",
    "agr_usr02 = agr_usr02.groupby('BNAME', as_index=False).max().reset_index(drop=True)"
   ]
  },
  {
   "cell_type": "code",
   "execution_count": null,
   "metadata": {},
   "outputs": [],
   "source": [
    "F_01 = (agr_usr02['S_TCODE_TCD_F-01'] == 1) & (agr_usr02['F_BKPF_BUK_ACTVT_01'] == 1) & (agr_usr02['F_BKPF_KOA_ACTVT_01'] == 1)\n",
    "F_34 = (agr_usr02['S_TCODE_TCD_F-34'] == 1) & (agr_usr02['F_BKPF_BUK_ACTVT_01'] == 1) & (agr_usr02['F_BKPF_KOA_ACTVT_01'] == 1)\n",
    "F19 = (agr_usr02['S_TCODE_TCD_F.19'] == 1) & ((agr_usr02['F_BKPF_BUK_ACTVT_01'] == 1) | (agr_usr02['F_BKPF_BUK_ACTVT_02'] == 1))\n",
    "F56 = (agr_usr02['S_TCODE_TCD_F.56'] == 1) & (agr_usr02['F_BKPF_BUK_ACTVT_02'] == 1) & (agr_usr02['S_PROGRAM_P_GROUP_F_002'] == 1) & (agr_usr02['S_PROGRAM_P_ACTION_SUBMIT'] == 1)\n",
    "F57 = (agr_usr02['S_TCODE_TCD_F.57'] == 1) & (agr_usr02['F_BKPF_BUK_ACTVT_02'] == 1)\n",
    "F81 = (agr_usr02['S_TCODE_TCD_F.81'] == 1) & ((agr_usr02['F_BKPF_BUK_ACTVT_01'] == 1) | (agr_usr02['F_BKPF_BUK_ACTVT_02'] == 1)) & (agr_usr02['S_PROGRAM_P_GROUP_F_001'] == 1) & (agr_usr02['S_PROGRAM_P_ACTION_SUBMIT'] == 1)\n",
    "FB11 = (agr_usr02['S_TCODE_TCD_FB11'] == 1) & (agr_usr02['F_BKPF_BUK_ACTVT_01'] == 1) & (agr_usr02['F_BKPF_KOA_ACTVT_01'] == 1) & (agr_usr02['F_BKPF_KOA_KOART_S'] == 1)\n",
    "FBD2 = (agr_usr02['S_TCODE_TCD_FBD2'] == 1) & (agr_usr02['F_BKPF_BUK_ACTVT_02'] == 1) & (agr_usr02['F_BKPF_KOA_ACTVT_02'] == 1) & (agr_usr02['F_BKPF_KOA_KOART_S'] == 1)\n",
    "FBU2 = (agr_usr02['S_TCODE_TCD_FBU2'] == 1) & (agr_usr02['F_BKPF_BUK_ACTVT_02'] == 1)\n",
    "FBU8 = (agr_usr02['S_TCODE_TCD_FBU8'] == 1) & (agr_usr02['F_BKPF_BUK_ACTVT_01'] == 1) & (agr_usr02['F_BKPF_KOA_ACTVT_01'] == 1) & (agr_usr02['F_BKPF_KOA_KOART_S'] == 1)\n",
    "FBV0 = (agr_usr02['S_TCODE_TCD_FBV0'] == 1) & (agr_usr02['F_BKPF_BUK_ACTVT_01'] == 1) & ((agr_usr02['F_BKPF_BUK_ACTVT_06'] == 1) | (agr_usr02['F_BKPF_BUK_ACTVT_77'] == 1)) & (agr_usr02['F_BKPF_KOA_ACTVT_01'] == 1)\n",
    "FBV1 = (agr_usr02['S_TCODE_TCD_FBV1'] == 1) & (agr_usr02['F_BKPF_BUK_ACTVT_77'] == 1) & (agr_usr02['F_BKPF_KOA_ACTVT_77'] == 1)\n",
    "FBV2 = (agr_usr02['S_TCODE_TCD_FBV2'] == 1) & (agr_usr02['F_BKPF_BUK_ACTVT_77'] == 1) & (agr_usr02['F_BKPF_KOA_ACTVT_77'] == 1)\n",
    "FPE1 = (agr_usr02['S_TCODE_TCD_FPE1'] == 1) & (agr_usr02['F_KKKO_BUK_ACTVT_01'] == 1) & ((agr_usr02['F_BKPF_BUK_ACTVT_01'] == 1) | (agr_usr02['F_BKPF_BUK_ACTVT_02'] == 1))\n",
    "FPRECL = (agr_usr02['S_TCODE_TCD_FPRECL'] == 1) & ((agr_usr02['F_BKPF_BUK_ACTVT_01'] == 1) | (agr_usr02['F_BKPF_BUK_ACTVT_02'] == 1))\n",
    "FPYE1 = (agr_usr02['S_TCODE_TCD_FPYE1'] == 1) & (agr_usr02['F_KKKO_BUK_ACTVT_01'] == 1) & ((agr_usr02['F_BKPF_BUK_ACTVT_01'] == 1) | (agr_usr02['F_BKPF_BUK_ACTVT_02'] == 1))"
   ]
  },
  {
   "cell_type": "code",
   "execution_count": null,
   "metadata": {},
   "outputs": [],
   "source": [
    "masks = [F_01, F_34, F19, F56, F57, F81, FB11, FBD2, FBU2, FBU8, FBV0, FBV1, FBV2, FPE1, FPRECL, FPYE1]"
   ]
  },
  {
   "cell_type": "code",
   "execution_count": null,
   "metadata": {},
   "outputs": [],
   "source": [
    "final_df = pd.DataFrame(columns = list(agr_usr02.columns) + list(['TCODE','IN_GRC']))\n",
    "for mask,tcode in zip(masks,out_grc):\n",
    "    df = agr_usr02[mask]\n",
    "    final_df = pd.concat([final_df,df], sort=False).reset_index(drop=True)\n",
    "    final_df['TCODE'] = final_df['TCODE'].fillna(tcode)\n",
    "    final_df['IN_GRC'] = final_df['IN_GRC'].fillna('NO')"
   ]
  },
  {
   "cell_type": "code",
   "execution_count": null,
   "metadata": {},
   "outputs": [],
   "source": [
    "# ['SYSTEM', 'RULE SET', 'ACCESS RISK ID', 'ACCESS RISK DESCRIPTION',\n",
    "#        'ACCESS RISK TYPE', 'ACCESS RISK LEVEL', 'BUSINESS PROCESS DESCRIPTION',\n",
    "#        'FUNCTIONS', 'FUNCTION DESCRIPTION', 'ACTION', 'ACCESS RULE ID',\n",
    "#        'PERMISSION OBJECT', 'FIELD', 'STATUS', 'VALUE FROM', 'VALUE TO',\n",
    "#        'OWNER', 'CONDITION']"
   ]
  },
  {
   "cell_type": "code",
   "execution_count": null,
   "metadata": {},
   "outputs": [],
   "source": [
    "relevant_rules_grc = relevant_rules_grc[['ID DE RIESGO DE ACCESO','DESCRIPCION DE RIESGO DE ACCESO','ACCION']].drop_duplicates().reset_index(drop=True)"
   ]
  },
  {
   "cell_type": "code",
   "execution_count": null,
   "metadata": {},
   "outputs": [],
   "source": [
    "# wb = load_workbook('SA_users.xlsx')\n",
    "# ws = wb['SA_users']\n",
    "# data = ws.values\n",
    "# columns = next(data)[0:]\n",
    "# sa_users = pd.DataFrame(data, columns=columns)\n",
    "# sa_users.columns = [re.sub(\n",
    "#         r\"([^n\\u0300-\\u036f]|n(?!\\u0303(?![\\u0300-\\u036f])))[\\u0300-\\u036f]+\", r\"\\1\", \n",
    "#         normalize( \"NFD\", r), 0, re.I) for r in sa_users.columns]\n",
    "# sa_users.columns = [r.strip(' ').upper() for r in sa_users.columns]"
   ]
  },
  {
   "cell_type": "code",
   "execution_count": null,
   "metadata": {},
   "outputs": [],
   "source": [
    "sa_users = pd.read_excel('SAP Input Files/SA_users.xlsx')\n",
    "sa_users.columns = [re.sub(\n",
    "        r\"([^n\\u0300-\\u036f]|n(?!\\u0303(?![\\u0300-\\u036f])))[\\u0300-\\u036f]+\", r\"\\1\", \n",
    "        normalize( \"NFD\", r), 0, re.I) for r in sa_users.columns]\n",
    "sa_users.columns = [r.strip(' ').upper() for r in sa_users.columns]"
   ]
  },
  {
   "cell_type": "code",
   "execution_count": null,
   "metadata": {},
   "outputs": [],
   "source": [
    "sa_users = pd.merge(sa_users[['ID USU.', 'ID DE RIESGO DE ACCESO']], relevant_rules_grc, how='left', on='ID DE RIESGO DE ACCESO', validate='many_to_many').drop_duplicates().reset_index(drop=True)\n",
    "sa_users = sa_users[sa_users['ACCION'].notnull()].reset_index(drop=True)"
   ]
  },
  {
   "cell_type": "code",
   "execution_count": null,
   "metadata": {},
   "outputs": [],
   "source": [
    "sa_users.head()"
   ]
  },
  {
   "cell_type": "code",
   "execution_count": null,
   "metadata": {},
   "outputs": [],
   "source": [
    "sa_users.rename(columns={'ID USU.':'BNAME',\n",
    "                        'ACCION':'TCODE',\n",
    "                        'DESCRIPCION DE RIESGO DE ACCESO':'IN_GRC'}, inplace=True)"
   ]
  },
  {
   "cell_type": "code",
   "execution_count": null,
   "metadata": {},
   "outputs": [],
   "source": [
    "final_df = final_df[['BNAME','TCODE', 'IN_GRC']].drop_duplicates().reset_index(drop=True)"
   ]
  },
  {
   "cell_type": "code",
   "execution_count": null,
   "metadata": {},
   "outputs": [],
   "source": [
    "sa_users.head()"
   ]
  },
  {
   "cell_type": "code",
   "execution_count": null,
   "metadata": {},
   "outputs": [],
   "source": [
    "del agr_1251\n",
    "del usr02\n",
    "del agr_agrs\n",
    "# del wb"
   ]
  },
  {
   "cell_type": "code",
   "execution_count": null,
   "metadata": {},
   "outputs": [],
   "source": [
    "final_df = pd.concat([final_df,sa_users], axis=0, ignore_index=True, sort=False)"
   ]
  },
  {
   "cell_type": "code",
   "execution_count": null,
   "metadata": {},
   "outputs": [],
   "source": [
    "del sa_users"
   ]
  },
  {
   "cell_type": "code",
   "execution_count": null,
   "metadata": {},
   "outputs": [],
   "source": [
    "final_df = pd.merge(final_df, scope_tcodes, how='left', left_on='TCODE', right_on='Technical_Name').drop('Technical_Name', axis=1).sort_values(by=['TCODE']).reset_index(drop=True)"
   ]
  },
  {
   "cell_type": "code",
   "execution_count": null,
   "metadata": {},
   "outputs": [],
   "source": [
    "final_df['ID DE RIESGO DE ACCESO'][final_df['ID DE RIESGO DE ACCESO'].isnull()] = \"N/A\""
   ]
  },
  {
   "cell_type": "code",
   "execution_count": null,
   "metadata": {},
   "outputs": [],
   "source": [
    "final_df.head()"
   ]
  },
  {
   "cell_type": "code",
   "execution_count": null,
   "metadata": {},
   "outputs": [],
   "source": [
    "final_df.to_csv('MOC_permisos_sin_nomina.csv')"
   ]
  },
  {
   "cell_type": "code",
   "execution_count": null,
   "metadata": {},
   "outputs": [],
   "source": [
    "nomina = pd.read_excel('SAP Input Files/NOMINA.xlsx')\n",
    "nomina['Nombre de usuario'] =  nomina['Nombre de usuario'].apply(lambda x: str(x).upper()).apply(lambda x: x.replace(\" \",\"\"))\n",
    "# nomina_externos = pd.read_excel('nomina_externos.xlsx')\n",
    "# nomina_externos['NOMBRE_USUARIO'] = nomina_externos['NOMBRE_USUARIO'].apply(lambda x: str(x).upper()).apply(lambda x: x.replace(\" \",\"\"))\n",
    "# nomina_externos.rename(columns={'DEPARTAMENTO':'Departamento_ext'}, inplace=True)"
   ]
  },
  {
   "cell_type": "code",
   "execution_count": null,
   "metadata": {},
   "outputs": [],
   "source": [
    "final_df = final_df.merge(nomina[['Nombre de usuario', 'Departamento']], how='left', left_on='BNAME', right_on='Nombre de usuario').drop('Nombre de usuario', axis=1)\n",
    "# final_df = final_df.merge(nomina_externos[['NOMBRE_USUARIO', 'Departamento_ext']], how='left', left_on='BNAME', right_on='NOMBRE_USUARIO').drop('NOMBRE_USUARIO', axis=1)"
   ]
  },
  {
   "cell_type": "code",
   "execution_count": null,
   "metadata": {},
   "outputs": [],
   "source": [
    "# values = {'DESCRIPCION DE RIESGO DE ACCESO':'N/A', 'Departamento':'N/A', 'Departamento_ext':'N/A'}\n",
    "# final_df = final_df.fillna(value=values)"
   ]
  },
  {
   "cell_type": "code",
   "execution_count": null,
   "metadata": {},
   "outputs": [],
   "source": [
    "del nomina\n",
    "# del nomina_externos"
   ]
  },
  {
   "cell_type": "code",
   "execution_count": null,
   "metadata": {},
   "outputs": [],
   "source": [
    "final_df.to_csv('MOC_permisos.csv')"
   ]
  },
  {
   "cell_type": "code",
   "execution_count": null,
   "metadata": {},
   "outputs": [],
   "source": []
  }
 ],
 "metadata": {
  "kernelspec": {
   "display_name": "Python 3 (ipykernel)",
   "language": "python",
   "name": "python3"
  },
  "language_info": {
   "codemirror_mode": {
    "name": "ipython",
    "version": 3
   },
   "file_extension": ".py",
   "mimetype": "text/x-python",
   "name": "python",
   "nbconvert_exporter": "python",
   "pygments_lexer": "ipython3",
   "version": "3.9.7"
  }
 },
 "nbformat": 4,
 "nbformat_minor": 4
}
